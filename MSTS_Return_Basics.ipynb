{
 "cells": [
  {
   "cell_type": "markdown",
   "metadata": {},
   "source": [
    "# Computing Returns\n",
    "Understanding how returns are computed, annualized and compared is essential for the purposes of portfolio comparison in asset management. We will also use these methods to introduce the basics of importaant coding notions and libraries.\n",
    "\n",
    "Let us display the prices of an asset as they evolve overtime using a data type  (in this case a list):"
   ]
  },
  {
   "cell_type": "code",
   "execution_count": 2,
   "metadata": {},
   "outputs": [],
   "source": [
    "prices_of_a_security = [100, 99, 103.02, 105.0804, 107, 109, 110, 125, 145, 5, 67]"
   ]
  },
  {
   "cell_type": "markdown",
   "metadata": {},
   "source": [
    "Quick review of lists:\n",
    "1. A list is a data structure in python\n",
    "2. We can use lists (defined by brackets[]) to store integers, floats, strings and more\n",
    "3. We can access elements of a list individually, entirely, or separately using slicing\n",
    "\n",
    "Note: In a python list the index of elements are as follows [0,1,2,3,4,5]\n",
    "\n",
    "- list[i] --> accesses the i'th element in the list, the element at index i\n",
    "- list[:] --> accesses the entire list\n",
    "- list[:2] --> accesses all elements until index 2\n",
    "- list[1:4] --> accesses all elements from index 1 to index 4"
   ]
  },
  {
   "cell_type": "code",
   "execution_count": 8,
   "metadata": {},
   "outputs": [
    {
     "name": "stdout",
     "output_type": "stream",
     "text": [
      "6\n"
     ]
    }
   ],
   "source": [
    "example = [1,2,\"yay\",3.00,4,5,6]\n",
    "print(example[-1])"
   ]
  },
  {
   "cell_type": "markdown",
   "metadata": {},
   "source": [
    "### Using the 1+r approach\n",
    "\n",
    "We can compute the first years return in 1+r format by assigning the result of the ratio between the (price in year 1 and price in year 0) and price in year 1 to a variable and printing it."
   ]
  },
  {
   "cell_type": "code",
   "execution_count": 3,
   "metadata": {},
   "outputs": [
    {
     "data": {
      "text/plain": [
       "-0.01"
      ]
     },
     "execution_count": 3,
     "metadata": {},
     "output_type": "execute_result"
    }
   ],
   "source": [
    "y1_return = (prices_of_a_security[1]-prices_of_a_security[0])/prices_of_a_security[0]\n",
    "y1_return"
   ]
  },
  {
   "cell_type": "code",
   "execution_count": 4,
   "metadata": {
    "scrolled": true
   },
   "outputs": [
    {
     "name": "stdout",
     "output_type": "stream",
     "text": [
      "0.99\n"
     ]
    }
   ],
   "source": [
    "y1_return = prices_of_a_security[1]/prices_of_a_security[0]\n",
    "print(round(y1_return,2))"
   ]
  },
  {
   "cell_type": "markdown",
   "metadata": {},
   "source": [
    "Assuming we have the price for available for the first n years, we can create our own list to compute n years worth of returns:"
   ]
  },
  {
   "cell_type": "code",
   "execution_count": 5,
   "metadata": {},
   "outputs": [
    {
     "name": "stdout",
     "output_type": "stream",
     "text": [
      "0.99\n",
      "1.0406\n",
      "1.02\n",
      "1.0183\n",
      "1.0187\n",
      "1.0092\n",
      "1.1364\n",
      "1.16\n",
      "0.0345\n",
      "13.4\n"
     ]
    }
   ],
   "source": [
    "#Create a list where we will store the returns of our security\n",
    "security_returns = []\n",
    "\n",
    "#Use a for loop to iterate through our price list and gather return information\n",
    "\n",
    "i=0\n",
    "while i+1 < len(prices_of_a_security):\n",
    "    returns = prices_of_a_security[i+1]/prices_of_a_security[i]\n",
    "    security_returns.append(returns)\n",
    "    i+=1\n",
    "\n",
    "\n",
    "for returns in security_returns:\n",
    "    print(round(returns,4))\n",
    "\n",
    "    "
   ]
  },
  {
   "cell_type": "markdown",
   "metadata": {},
   "source": [
    "### How does this affect our holdings?\n",
    "\n",
    "Now that we have created a list with our returns for each consecutive year, we can create a wealth index given a initial amount invested which we will call initial_investment:\n"
   ]
  },
  {
   "cell_type": "code",
   "execution_count": 6,
   "metadata": {},
   "outputs": [
    {
     "name": "stdout",
     "output_type": "stream",
     "text": [
      "[0.99, 1.0406060606060605, 1.02, 1.0182679167570736, 1.0186915887850467, 1.0091743119266054, 1.1363636363636365, 1.16, 0.034482758620689655, 13.4]\n",
      "2010.0\n"
     ]
    }
   ],
   "source": [
    "initial_investment = 3000\n",
    "\n",
    "print(security_returns)\n",
    "\n",
    "factor = 1\n",
    "for returns in security_returns:\n",
    "    factor = factor * returns\n",
    "\n",
    "initial_investment *= factor\n",
    "\n",
    "print(round(initial_investment,2))"
   ]
  },
  {
   "cell_type": "markdown",
   "metadata": {},
   "source": [
    "\n",
    "\n",
    "\n",
    "\n"
   ]
  },
  {
   "cell_type": "markdown",
   "metadata": {},
   "source": [
    "# Using Numpy and Pandas to Compute Returns\n",
    "\n",
    "Although working with lists seems convenient, there are much more efficient and clear ways to do these computations using pre-defined methods in libraries such as numpy and pandas. \n",
    "\n",
    "The reason being:\n",
    "\n",
    "- Working with arrays and data frames allows us to be more efficient\n",
    "\n",
    "- The people who built numpy and pandas included extremely useful methods for us to compute percentage changes and more\n"
   ]
  },
  {
   "cell_type": "code",
   "execution_count": 17,
   "metadata": {},
   "outputs": [],
   "source": [
    "#First we must import these two libraries\n",
    "#Make sure to pip install these if the import statement gives you an error\n",
    "#Go to your terminal and type : \"pip install pandas\" & \"pip install numpy\"\n",
    "import numpy as np\n",
    "import pandas as pd"
   ]
  },
  {
   "cell_type": "markdown",
   "metadata": {},
   "source": [
    "## Returns using Numpy\n",
    "\n",
    "Numpy and Pandas will be useful mainly for a few diffrent purposes:\n",
    "\n",
    "* Numpy and Pandas work together to automate processes for us\n",
    "* We can cast returns into an array rather than keeping them as lists \n",
    "* We can use Pandas to not create the methods ourselves and use predefined\n",
    "\n",
    "\n",
    "\n"
   ]
  },
  {
   "cell_type": "markdown",
   "metadata": {},
   "source": [
    "## Pandas for Stock Data Analysis\n",
    "\n",
    "We've just seen the power of importing packages through the numpy example. As we will see Pandas has predefined methods \n",
    "\n",
    "Basic Pandas :\n",
    "\n",
    "* pd.DataFrame({}) : Create a Data Frame\n",
    "\n",
    "* df[:] : slice a dataframe (you control the rows)\n",
    "\n",
    "* .iloc : integerlocation : Used to slice a pandas data dataframe and obtain desired rows\n",
    "\n",
    "Computing Returns for your dataFrame\n",
    "\n",
    "* df.iloc[1:].values / df.iloc[:-1]-1 : \n"
   ]
  },
  {
   "cell_type": "code",
   "execution_count": 35,
   "metadata": {},
   "outputs": [
    {
     "data": {
      "text/html": [
       "<div>\n",
       "<style scoped>\n",
       "    .dataframe tbody tr th:only-of-type {\n",
       "        vertical-align: middle;\n",
       "    }\n",
       "\n",
       "    .dataframe tbody tr th {\n",
       "        vertical-align: top;\n",
       "    }\n",
       "\n",
       "    .dataframe thead th {\n",
       "        text-align: right;\n",
       "    }\n",
       "</style>\n",
       "<table border=\"1\" class=\"dataframe\">\n",
       "  <thead>\n",
       "    <tr style=\"text-align: right;\">\n",
       "      <th></th>\n",
       "      <th>STOCK_A</th>\n",
       "      <th>STOCK_B</th>\n",
       "    </tr>\n",
       "  </thead>\n",
       "  <tbody>\n",
       "    <tr>\n",
       "      <th>0</th>\n",
       "      <td>10</td>\n",
       "      <td>7</td>\n",
       "    </tr>\n",
       "    <tr>\n",
       "      <th>1</th>\n",
       "      <td>11</td>\n",
       "      <td>9</td>\n",
       "    </tr>\n",
       "    <tr>\n",
       "      <th>2</th>\n",
       "      <td>12</td>\n",
       "      <td>8</td>\n",
       "    </tr>\n",
       "    <tr>\n",
       "      <th>3</th>\n",
       "      <td>18</td>\n",
       "      <td>10</td>\n",
       "    </tr>\n",
       "    <tr>\n",
       "      <th>4</th>\n",
       "      <td>33</td>\n",
       "      <td>11</td>\n",
       "    </tr>\n",
       "    <tr>\n",
       "      <th>5</th>\n",
       "      <td>40</td>\n",
       "      <td>12</td>\n",
       "    </tr>\n",
       "    <tr>\n",
       "      <th>6</th>\n",
       "      <td>33</td>\n",
       "      <td>14</td>\n",
       "    </tr>\n",
       "  </tbody>\n",
       "</table>\n",
       "</div>"
      ],
      "text/plain": [
       "   STOCK_A  STOCK_B\n",
       "0       10        7\n",
       "1       11        9\n",
       "2       12        8\n",
       "3       18       10\n",
       "4       33       11\n",
       "5       40       12\n",
       "6       33       14"
      ]
     },
     "execution_count": 35,
     "metadata": {},
     "output_type": "execute_result"
    }
   ],
   "source": [
    "# We can also use Pandas to frame our data, rather than keep it in array format\n",
    "\n",
    "stock_prices = pd.DataFrame({\"STOCK_A\": [10, 11, 12, 18, 33, 40, 33],\n",
    "                      \"STOCK_B\":[7, 9, 8, 10, 11, 12, 14]\n",
    "                      })\n",
    "\n",
    "#We can play around to gather the rows we want\n",
    "stock_prices[:]"
   ]
  },
  {
   "cell_type": "code",
   "execution_count": 31,
   "metadata": {},
   "outputs": [
    {
     "data": {
      "text/html": [
       "<div>\n",
       "<style scoped>\n",
       "    .dataframe tbody tr th:only-of-type {\n",
       "        vertical-align: middle;\n",
       "    }\n",
       "\n",
       "    .dataframe tbody tr th {\n",
       "        vertical-align: top;\n",
       "    }\n",
       "\n",
       "    .dataframe thead th {\n",
       "        text-align: right;\n",
       "    }\n",
       "</style>\n",
       "<table border=\"1\" class=\"dataframe\">\n",
       "  <thead>\n",
       "    <tr style=\"text-align: right;\">\n",
       "      <th></th>\n",
       "      <th>STOCK_A</th>\n",
       "      <th>STOCK_B</th>\n",
       "    </tr>\n",
       "  </thead>\n",
       "  <tbody>\n",
       "    <tr>\n",
       "      <th>2</th>\n",
       "      <td>12</td>\n",
       "      <td>8</td>\n",
       "    </tr>\n",
       "    <tr>\n",
       "      <th>3</th>\n",
       "      <td>18</td>\n",
       "      <td>10</td>\n",
       "    </tr>\n",
       "  </tbody>\n",
       "</table>\n",
       "</div>"
      ],
      "text/plain": [
       "   STOCK_A  STOCK_B\n",
       "2       12        8\n",
       "3       18       10"
      ]
     },
     "execution_count": 31,
     "metadata": {},
     "output_type": "execute_result"
    }
   ],
   "source": [
    "# The iloc method is part of the DataFrame Class, it allows us to extract rows out of a data frame\n",
    "stock_prices.iloc[2:4]"
   ]
  },
  {
   "cell_type": "code",
   "execution_count": 33,
   "metadata": {},
   "outputs": [
    {
     "data": {
      "text/plain": [
       "0    10\n",
       "1    11\n",
       "2    12\n",
       "3    18\n",
       "4    33\n",
       "Name: STOCK_A, dtype: int64"
      ]
     },
     "execution_count": 33,
     "metadata": {},
     "output_type": "execute_result"
    }
   ],
   "source": [
    "#Accessing one column in our DataFrame\n",
    "stock_prices[\"STOCK_A\"].head()"
   ]
  },
  {
   "cell_type": "markdown",
   "metadata": {},
   "source": [
    "## Computing Returns in a DataFrame\n",
    "Using the predefined methods that are part of the pandas documentation, computing returns and changing our data Frame has never been easier. We can simply use the methods to perform computation on the data at hand, or even let those methods perform computations for us."
   ]
  },
  {
   "cell_type": "code",
   "execution_count": 34,
   "metadata": {},
   "outputs": [
    {
     "data": {
      "text/html": [
       "<div>\n",
       "<style scoped>\n",
       "    .dataframe tbody tr th:only-of-type {\n",
       "        vertical-align: middle;\n",
       "    }\n",
       "\n",
       "    .dataframe tbody tr th {\n",
       "        vertical-align: top;\n",
       "    }\n",
       "\n",
       "    .dataframe thead th {\n",
       "        text-align: right;\n",
       "    }\n",
       "</style>\n",
       "<table border=\"1\" class=\"dataframe\">\n",
       "  <thead>\n",
       "    <tr style=\"text-align: right;\">\n",
       "      <th></th>\n",
       "      <th>STOCK_A</th>\n",
       "      <th>STOCK_B</th>\n",
       "    </tr>\n",
       "  </thead>\n",
       "  <tbody>\n",
       "    <tr>\n",
       "      <th>0</th>\n",
       "      <td>0.100000</td>\n",
       "      <td>0.285714</td>\n",
       "    </tr>\n",
       "    <tr>\n",
       "      <th>1</th>\n",
       "      <td>0.090909</td>\n",
       "      <td>-0.111111</td>\n",
       "    </tr>\n",
       "    <tr>\n",
       "      <th>2</th>\n",
       "      <td>0.500000</td>\n",
       "      <td>0.250000</td>\n",
       "    </tr>\n",
       "    <tr>\n",
       "      <th>3</th>\n",
       "      <td>0.833333</td>\n",
       "      <td>0.100000</td>\n",
       "    </tr>\n",
       "    <tr>\n",
       "      <th>4</th>\n",
       "      <td>0.212121</td>\n",
       "      <td>0.090909</td>\n",
       "    </tr>\n",
       "    <tr>\n",
       "      <th>5</th>\n",
       "      <td>-0.175000</td>\n",
       "      <td>0.166667</td>\n",
       "    </tr>\n",
       "  </tbody>\n",
       "</table>\n",
       "</div>"
      ],
      "text/plain": [
       "    STOCK_A   STOCK_B\n",
       "0  0.100000  0.285714\n",
       "1  0.090909 -0.111111\n",
       "2  0.500000  0.250000\n",
       "3  0.833333  0.100000\n",
       "4  0.212121  0.090909\n",
       "5 -0.175000  0.166667"
      ]
     },
     "execution_count": 34,
     "metadata": {},
     "output_type": "execute_result"
    }
   ],
   "source": [
    "#Extracting returns from our data set\n",
    "stock_prices.iloc[1:].values / stock_prices.iloc[:-1] -1"
   ]
  },
  {
   "cell_type": "code",
   "execution_count": 50,
   "metadata": {},
   "outputs": [
    {
     "data": {
      "text/html": [
       "<div>\n",
       "<style scoped>\n",
       "    .dataframe tbody tr th:only-of-type {\n",
       "        vertical-align: middle;\n",
       "    }\n",
       "\n",
       "    .dataframe tbody tr th {\n",
       "        vertical-align: top;\n",
       "    }\n",
       "\n",
       "    .dataframe thead th {\n",
       "        text-align: right;\n",
       "    }\n",
       "</style>\n",
       "<table border=\"1\" class=\"dataframe\">\n",
       "  <thead>\n",
       "    <tr style=\"text-align: right;\">\n",
       "      <th></th>\n",
       "      <th>STOCK_A</th>\n",
       "      <th>STOCK_B</th>\n",
       "    </tr>\n",
       "  </thead>\n",
       "  <tbody>\n",
       "    <tr>\n",
       "      <th>1</th>\n",
       "      <td>1.100000</td>\n",
       "      <td>1.285714</td>\n",
       "    </tr>\n",
       "    <tr>\n",
       "      <th>2</th>\n",
       "      <td>1.090909</td>\n",
       "      <td>0.888889</td>\n",
       "    </tr>\n",
       "    <tr>\n",
       "      <th>3</th>\n",
       "      <td>1.500000</td>\n",
       "      <td>1.250000</td>\n",
       "    </tr>\n",
       "    <tr>\n",
       "      <th>4</th>\n",
       "      <td>1.833333</td>\n",
       "      <td>1.100000</td>\n",
       "    </tr>\n",
       "    <tr>\n",
       "      <th>5</th>\n",
       "      <td>1.212121</td>\n",
       "      <td>1.090909</td>\n",
       "    </tr>\n",
       "    <tr>\n",
       "      <th>6</th>\n",
       "      <td>0.825000</td>\n",
       "      <td>1.166667</td>\n",
       "    </tr>\n",
       "  </tbody>\n",
       "</table>\n",
       "</div>"
      ],
      "text/plain": [
       "    STOCK_A   STOCK_B\n",
       "1  1.100000  1.285714\n",
       "2  1.090909  0.888889\n",
       "3  1.500000  1.250000\n",
       "4  1.833333  1.100000\n",
       "5  1.212121  1.090909\n",
       "6  0.825000  1.166667"
      ]
     },
     "execution_count": 50,
     "metadata": {},
     "output_type": "execute_result"
    }
   ],
   "source": [
    "# We can easily compute return for both stocks this way\n",
    "stock_prices.iloc[1:]/ stock_prices.iloc[:-1].values"
   ]
  },
  {
   "cell_type": "code",
   "execution_count": 40,
   "metadata": {},
   "outputs": [
    {
     "data": {
      "text/html": [
       "<div>\n",
       "<style scoped>\n",
       "    .dataframe tbody tr th:only-of-type {\n",
       "        vertical-align: middle;\n",
       "    }\n",
       "\n",
       "    .dataframe tbody tr th {\n",
       "        vertical-align: top;\n",
       "    }\n",
       "\n",
       "    .dataframe thead th {\n",
       "        text-align: right;\n",
       "    }\n",
       "</style>\n",
       "<table border=\"1\" class=\"dataframe\">\n",
       "  <thead>\n",
       "    <tr style=\"text-align: right;\">\n",
       "      <th></th>\n",
       "      <th>STOCK_A</th>\n",
       "      <th>STOCK_B</th>\n",
       "    </tr>\n",
       "  </thead>\n",
       "  <tbody>\n",
       "    <tr>\n",
       "      <th>0</th>\n",
       "      <td>NaN</td>\n",
       "      <td>NaN</td>\n",
       "    </tr>\n",
       "    <tr>\n",
       "      <th>1</th>\n",
       "      <td>10.0</td>\n",
       "      <td>7.0</td>\n",
       "    </tr>\n",
       "    <tr>\n",
       "      <th>2</th>\n",
       "      <td>11.0</td>\n",
       "      <td>9.0</td>\n",
       "    </tr>\n",
       "    <tr>\n",
       "      <th>3</th>\n",
       "      <td>12.0</td>\n",
       "      <td>8.0</td>\n",
       "    </tr>\n",
       "    <tr>\n",
       "      <th>4</th>\n",
       "      <td>18.0</td>\n",
       "      <td>10.0</td>\n",
       "    </tr>\n",
       "    <tr>\n",
       "      <th>5</th>\n",
       "      <td>33.0</td>\n",
       "      <td>11.0</td>\n",
       "    </tr>\n",
       "    <tr>\n",
       "      <th>6</th>\n",
       "      <td>40.0</td>\n",
       "      <td>12.0</td>\n",
       "    </tr>\n",
       "  </tbody>\n",
       "</table>\n",
       "</div>"
      ],
      "text/plain": [
       "   STOCK_A  STOCK_B\n",
       "0      NaN      NaN\n",
       "1     10.0      7.0\n",
       "2     11.0      9.0\n",
       "3     12.0      8.0\n",
       "4     18.0     10.0\n",
       "5     33.0     11.0\n",
       "6     40.0     12.0"
      ]
     },
     "execution_count": 40,
     "metadata": {},
     "output_type": "execute_result"
    }
   ],
   "source": [
    "# Method to shift prices down 1\n",
    "stock_prices.shift()"
   ]
  },
  {
   "cell_type": "code",
   "execution_count": 42,
   "metadata": {},
   "outputs": [
    {
     "data": {
      "text/html": [
       "<div>\n",
       "<style scoped>\n",
       "    .dataframe tbody tr th:only-of-type {\n",
       "        vertical-align: middle;\n",
       "    }\n",
       "\n",
       "    .dataframe tbody tr th {\n",
       "        vertical-align: top;\n",
       "    }\n",
       "\n",
       "    .dataframe thead th {\n",
       "        text-align: right;\n",
       "    }\n",
       "</style>\n",
       "<table border=\"1\" class=\"dataframe\">\n",
       "  <thead>\n",
       "    <tr style=\"text-align: right;\">\n",
       "      <th></th>\n",
       "      <th>STOCK_A</th>\n",
       "      <th>STOCK_B</th>\n",
       "    </tr>\n",
       "  </thead>\n",
       "  <tbody>\n",
       "    <tr>\n",
       "      <th>0</th>\n",
       "      <td>NaN</td>\n",
       "      <td>NaN</td>\n",
       "    </tr>\n",
       "    <tr>\n",
       "      <th>1</th>\n",
       "      <td>0.100000</td>\n",
       "      <td>0.285714</td>\n",
       "    </tr>\n",
       "    <tr>\n",
       "      <th>2</th>\n",
       "      <td>0.090909</td>\n",
       "      <td>-0.111111</td>\n",
       "    </tr>\n",
       "    <tr>\n",
       "      <th>3</th>\n",
       "      <td>0.500000</td>\n",
       "      <td>0.250000</td>\n",
       "    </tr>\n",
       "    <tr>\n",
       "      <th>4</th>\n",
       "      <td>0.833333</td>\n",
       "      <td>0.100000</td>\n",
       "    </tr>\n",
       "    <tr>\n",
       "      <th>5</th>\n",
       "      <td>0.212121</td>\n",
       "      <td>0.090909</td>\n",
       "    </tr>\n",
       "    <tr>\n",
       "      <th>6</th>\n",
       "      <td>-0.175000</td>\n",
       "      <td>0.166667</td>\n",
       "    </tr>\n",
       "  </tbody>\n",
       "</table>\n",
       "</div>"
      ],
      "text/plain": [
       "    STOCK_A   STOCK_B\n",
       "0       NaN       NaN\n",
       "1  0.100000  0.285714\n",
       "2  0.090909 -0.111111\n",
       "3  0.500000  0.250000\n",
       "4  0.833333  0.100000\n",
       "5  0.212121  0.090909\n",
       "6 -0.175000  0.166667"
      ]
     },
     "execution_count": 42,
     "metadata": {},
     "output_type": "execute_result"
    }
   ],
   "source": [
    "#Can also be used to compute our returns, for the first stock or the second stock\n",
    "stock_a_returns = stock_prices.values / stock_prices.shift(1) - 1\n",
    "stock_a_returns"
   ]
  },
  {
   "cell_type": "markdown",
   "metadata": {},
   "source": [
    "Thankfully, we will never have to do these \"manual\" calculations again. The developpers of these libraries have created methods to help users speed up their analysis which we will encounter soon."
   ]
  }
 ],
 "metadata": {
  "kernelspec": {
   "display_name": "Python 3",
   "language": "python",
   "name": "python3"
  },
  "language_info": {
   "codemirror_mode": {
    "name": "ipython",
    "version": 3
   },
   "file_extension": ".py",
   "mimetype": "text/x-python",
   "name": "python",
   "nbconvert_exporter": "python",
   "pygments_lexer": "ipython3",
   "version": "3.8.5"
  }
 },
 "nbformat": 4,
 "nbformat_minor": 4
}
