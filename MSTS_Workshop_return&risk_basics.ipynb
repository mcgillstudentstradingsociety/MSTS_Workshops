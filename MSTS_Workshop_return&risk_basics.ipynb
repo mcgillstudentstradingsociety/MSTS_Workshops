{
 "cells": [
  {
   "cell_type": "markdown",
   "metadata": {},
   "source": [
    "# Computing Returns\n",
    "Understanding how returns are computed, annualized and compared is essential for the purposes of strategy comparison and any form of programmed asset management. We will also use these methods to introduce the basics of this environemnt and properties used when coding.\n",
    "\n",
    "Let us display the prices of an asset as they evolve overtime using a data type  (in this case a list):"
   ]
  },
  {
   "cell_type": "code",
   "execution_count": 12,
   "metadata": {},
   "outputs": [],
   "source": [
    "prices_of_a_security = [100, 99, 103.02, 105.0804, 107, 109, 110, 125, 145, 5, 67]"
   ]
  },
  {
   "cell_type": "markdown",
   "metadata": {},
   "source": [
    "Quick review of lists:\n",
    "1. A list is a data structure in python\n",
    "2. We can use lists (defined by brackets[]) to store integers, floats, strings and more\n",
    "3. We can access elements of a list individually, entirely, or separately using slicing\n",
    "\n",
    "Note: In a python list the index of elements are as follows [0,1,2,3,4,5]\n",
    "\n",
    "- list[i] --> accesses the i'th element in the list, the element at index i\n",
    "- list[:] --> accesses the entire list\n",
    "- list[:2] --> accesses all elements until index 2\n",
    "- list[1:4] --> accesses all elements from index 1 to index 4"
   ]
  },
  {
   "cell_type": "code",
   "execution_count": 8,
   "metadata": {},
   "outputs": [
    {
     "name": "stdout",
     "output_type": "stream",
     "text": [
      "6\n"
     ]
    }
   ],
   "source": [
    "example = [1,2,\"yay\",3.00,4,5,6]\n",
    "print(example[-1])"
   ]
  },
  {
   "cell_type": "markdown",
   "metadata": {},
   "source": [
    "### Using the 1+r approach\n",
    "\n",
    "We can compute the first years return in 1+r format by assigning the result of the ratio between the (price in year 1 and price in year 0) and price in year 1 to a variable and printing it."
   ]
  },
  {
   "cell_type": "code",
   "execution_count": 9,
   "metadata": {},
   "outputs": [
    {
     "data": {
      "text/plain": [
       "-0.01"
      ]
     },
     "execution_count": 9,
     "metadata": {},
     "output_type": "execute_result"
    }
   ],
   "source": [
    "y1_return = (prices_of_a_security[1]-prices_of_a_security[0])/prices_of_a_security[0]\n",
    "y1_return"
   ]
  },
  {
   "cell_type": "code",
   "execution_count": 10,
   "metadata": {
    "scrolled": true
   },
   "outputs": [
    {
     "name": "stdout",
     "output_type": "stream",
     "text": [
      "0.99\n"
     ]
    }
   ],
   "source": [
    "y1_return = prices_of_a_security[1]/prices_of_a_security[0]\n",
    "print(round(y1_return,2))"
   ]
  },
  {
   "cell_type": "markdown",
   "metadata": {},
   "source": [
    "Assuming we have the price for available for the first n years, we can create our own list to compute n years worth of returns:"
   ]
  },
  {
   "cell_type": "code",
   "execution_count": 13,
   "metadata": {},
   "outputs": [
    {
     "name": "stdout",
     "output_type": "stream",
     "text": [
      "0.99\n",
      "1.0406\n",
      "1.02\n",
      "1.0183\n",
      "1.0187\n",
      "1.0092\n",
      "1.1364\n",
      "1.16\n",
      "0.0345\n",
      "13.4\n"
     ]
    }
   ],
   "source": [
    "#Create a list where we will store the returns of our security\n",
    "security_returns = []\n",
    "\n",
    "#Use a for loop to iterate through our price list and gather return information\n",
    "\n",
    "i=0\n",
    "while i+1 < len(prices_of_a_security):\n",
    "    returns = prices_of_a_security[i+1]/prices_of_a_security[i]\n",
    "    security_returns.append(returns)\n",
    "    i+=1\n",
    "\n",
    "\n",
    "for returns in security_returns:\n",
    "    print(round(returns,4))\n",
    "\n",
    "    "
   ]
  },
  {
   "cell_type": "markdown",
   "metadata": {},
   "source": [
    "### How does this affect our holdings?\n",
    "\n",
    "Now that we have created a list with our returns for each consecutive year, we can create a wealth index given a initial amount invested which we will call initial_investment:\n"
   ]
  },
  {
   "cell_type": "code",
   "execution_count": 15,
   "metadata": {},
   "outputs": [
    {
     "name": "stdout",
     "output_type": "stream",
     "text": [
      "[0.99, 1.0406060606060605, 1.02, 1.0182679167570736, 1.0186915887850467, 1.0091743119266054, 1.1363636363636365, 1.16, 0.034482758620689655, 13.4]\n",
      "1937.35\n"
     ]
    }
   ],
   "source": [
    "initial_investment = 2891.57\n",
    "\n",
    "print(security_returns)\n",
    "\n",
    "factor = 1\n",
    "for returns in security_returns:\n",
    "    factor = factor * returns\n",
    "\n",
    "initial_investment *= factor\n",
    "\n",
    "print(round(initial_investment,2))"
   ]
  },
  {
   "cell_type": "markdown",
   "metadata": {},
   "source": [
    "\n",
    "\n",
    "\n",
    "\n"
   ]
  },
  {
   "cell_type": "markdown",
   "metadata": {},
   "source": [
    "# Using Numpy and Pandas to Compute Returns\n",
    "\n",
    "Although working with lists seems convenient, there are much more efficient and clear ways to do these computations using pre-defined methods in libraries such as numpy and pandas. \n",
    "\n",
    "The reason being:\n",
    "\n",
    "- Working with arrays and data frames allows us to be more efficient\n",
    "\n",
    "- The people who built numpy and pandas included extremely useful methods for us to compute percentage changes and more\n"
   ]
  },
  {
   "cell_type": "code",
   "execution_count": 17,
   "metadata": {},
   "outputs": [],
   "source": [
    "#First we must import these two libraries\n",
    "import numpy as np\n",
    "import pandas as pd"
   ]
  },
  {
   "cell_type": "markdown",
   "metadata": {},
   "source": [
    "### Returns using Numpy\n",
    "\n",
    "Numpy and Pandas will be useful mainly for a few diffrent purposes:\n",
    "\n",
    "* Numpy and Pandas work together to automate processes for us\n",
    "* We can cast returns into an array rather than keeping them as lists \n",
    "* We can use Pandas to not create the methods ourselves and use predefined\n",
    "\n",
    "\n",
    "\n"
   ]
  },
  {
   "cell_type": "code",
   "execution_count": 20,
   "metadata": {},
   "outputs": [
    {
     "name": "stdout",
     "output_type": "stream",
     "text": [
      "[100 102 110 115 120]\n"
     ]
    }
   ],
   "source": [
    "security_prices = np.array([100, 102, 110, 115, 120])\n",
    "print(security_prices)"
   ]
  },
  {
   "cell_type": "markdown",
   "metadata": {},
   "source": [
    "\n",
    "Remember how we use to for loop through each return in the list to find our list of returns? No longer!\n"
   ]
  },
  {
   "cell_type": "code",
   "execution_count": 24,
   "metadata": {},
   "outputs": [
    {
     "data": {
      "text/plain": [
       "array([1.02      , 1.07843137, 1.04545455, 1.04347826])"
      ]
     },
     "execution_count": 24,
     "metadata": {},
     "output_type": "execute_result"
    }
   ],
   "source": [
    "security_returns_array = security_prices[1:]/security_prices[:-1]\n",
    "security_returns_array"
   ]
  },
  {
   "cell_type": "code",
   "execution_count": 23,
   "metadata": {},
   "outputs": [
    {
     "data": {
      "text/plain": [
       "array([0.02      , 0.07843137, 0.04545455, 0.04347826])"
      ]
     },
     "execution_count": 23,
     "metadata": {},
     "output_type": "execute_result"
    }
   ],
   "source": [
    "security_prices[1:]/security_prices[:-1] - 1"
   ]
  },
  {
   "cell_type": "markdown",
   "metadata": {},
   "source": [
    " "
   ]
  },
  {
   "cell_type": "markdown",
   "metadata": {},
   "source": [
    " "
   ]
  },
  {
   "cell_type": "markdown",
   "metadata": {},
   "source": [
    "# Pandas for Stock Data Analysis\n",
    "\n",
    "We've just seen the power of importing packages through the numpy example. As we will see Pandas has predefined methods \n",
    "\n",
    "Basic Pandas :\n",
    "\n",
    "* pd.DataFrame({}) : Create a Data Frame\n",
    "\n",
    "* df[:] : slice a dataframe (you control the rows)\n",
    "\n",
    "* .iloc : integerlocation : Used to slice a pandas data dataframe and obtain desired rows\n",
    "\n",
    "Computing Returns for your dataFrame\n",
    "\n",
    "* df.iloc[1:].values / df.iloc[:-1]-1 : \n"
   ]
  },
  {
   "cell_type": "code",
   "execution_count": 35,
   "metadata": {},
   "outputs": [
    {
     "data": {
      "text/html": [
       "<div>\n",
       "<style scoped>\n",
       "    .dataframe tbody tr th:only-of-type {\n",
       "        vertical-align: middle;\n",
       "    }\n",
       "\n",
       "    .dataframe tbody tr th {\n",
       "        vertical-align: top;\n",
       "    }\n",
       "\n",
       "    .dataframe thead th {\n",
       "        text-align: right;\n",
       "    }\n",
       "</style>\n",
       "<table border=\"1\" class=\"dataframe\">\n",
       "  <thead>\n",
       "    <tr style=\"text-align: right;\">\n",
       "      <th></th>\n",
       "      <th>STOCK_A</th>\n",
       "      <th>STOCK_B</th>\n",
       "    </tr>\n",
       "  </thead>\n",
       "  <tbody>\n",
       "    <tr>\n",
       "      <th>0</th>\n",
       "      <td>10</td>\n",
       "      <td>7</td>\n",
       "    </tr>\n",
       "    <tr>\n",
       "      <th>1</th>\n",
       "      <td>11</td>\n",
       "      <td>9</td>\n",
       "    </tr>\n",
       "    <tr>\n",
       "      <th>2</th>\n",
       "      <td>12</td>\n",
       "      <td>8</td>\n",
       "    </tr>\n",
       "    <tr>\n",
       "      <th>3</th>\n",
       "      <td>18</td>\n",
       "      <td>10</td>\n",
       "    </tr>\n",
       "    <tr>\n",
       "      <th>4</th>\n",
       "      <td>33</td>\n",
       "      <td>11</td>\n",
       "    </tr>\n",
       "    <tr>\n",
       "      <th>5</th>\n",
       "      <td>40</td>\n",
       "      <td>12</td>\n",
       "    </tr>\n",
       "    <tr>\n",
       "      <th>6</th>\n",
       "      <td>33</td>\n",
       "      <td>14</td>\n",
       "    </tr>\n",
       "  </tbody>\n",
       "</table>\n",
       "</div>"
      ],
      "text/plain": [
       "   STOCK_A  STOCK_B\n",
       "0       10        7\n",
       "1       11        9\n",
       "2       12        8\n",
       "3       18       10\n",
       "4       33       11\n",
       "5       40       12\n",
       "6       33       14"
      ]
     },
     "execution_count": 35,
     "metadata": {},
     "output_type": "execute_result"
    }
   ],
   "source": [
    "# We can also use Pandas to frame our data, rather than keep it in array format\n",
    "\n",
    "stock_prices = pd.DataFrame({\"STOCK_A\": [10, 11, 12, 18, 33, 40, 33],\n",
    "                      \"STOCK_B\":[7, 9, 8, 10, 11, 12, 14]\n",
    "                      })\n",
    "\n",
    "#We can play around to gather the rows we want\n",
    "stock_prices[:]"
   ]
  },
  {
   "cell_type": "code",
   "execution_count": 31,
   "metadata": {},
   "outputs": [
    {
     "data": {
      "text/html": [
       "<div>\n",
       "<style scoped>\n",
       "    .dataframe tbody tr th:only-of-type {\n",
       "        vertical-align: middle;\n",
       "    }\n",
       "\n",
       "    .dataframe tbody tr th {\n",
       "        vertical-align: top;\n",
       "    }\n",
       "\n",
       "    .dataframe thead th {\n",
       "        text-align: right;\n",
       "    }\n",
       "</style>\n",
       "<table border=\"1\" class=\"dataframe\">\n",
       "  <thead>\n",
       "    <tr style=\"text-align: right;\">\n",
       "      <th></th>\n",
       "      <th>STOCK_A</th>\n",
       "      <th>STOCK_B</th>\n",
       "    </tr>\n",
       "  </thead>\n",
       "  <tbody>\n",
       "    <tr>\n",
       "      <th>2</th>\n",
       "      <td>12</td>\n",
       "      <td>8</td>\n",
       "    </tr>\n",
       "    <tr>\n",
       "      <th>3</th>\n",
       "      <td>18</td>\n",
       "      <td>10</td>\n",
       "    </tr>\n",
       "  </tbody>\n",
       "</table>\n",
       "</div>"
      ],
      "text/plain": [
       "   STOCK_A  STOCK_B\n",
       "2       12        8\n",
       "3       18       10"
      ]
     },
     "execution_count": 31,
     "metadata": {},
     "output_type": "execute_result"
    }
   ],
   "source": [
    "# The iloc method is part of the DataFrame Class, it allows us to extract rows out of a data frame\n",
    "stock_prices.iloc[2:4]"
   ]
  },
  {
   "cell_type": "code",
   "execution_count": 33,
   "metadata": {},
   "outputs": [
    {
     "data": {
      "text/plain": [
       "0    10\n",
       "1    11\n",
       "2    12\n",
       "3    18\n",
       "4    33\n",
       "Name: STOCK_A, dtype: int64"
      ]
     },
     "execution_count": 33,
     "metadata": {},
     "output_type": "execute_result"
    }
   ],
   "source": [
    "#Accessing one column in our DataFrame\n",
    "stock_prices[\"STOCK_A\"].head()"
   ]
  },
  {
   "cell_type": "markdown",
   "metadata": {},
   "source": [
    "## Computing Returns in a DataFrame\n",
    "Using the predefined methods that are part of the pandas documentation, computing returns and changing our data Frame has never been easier. We can simply use the methods to perform computation on the data at hand, or even let those methods perform computations for us."
   ]
  },
  {
   "cell_type": "code",
   "execution_count": 34,
   "metadata": {},
   "outputs": [
    {
     "data": {
      "text/html": [
       "<div>\n",
       "<style scoped>\n",
       "    .dataframe tbody tr th:only-of-type {\n",
       "        vertical-align: middle;\n",
       "    }\n",
       "\n",
       "    .dataframe tbody tr th {\n",
       "        vertical-align: top;\n",
       "    }\n",
       "\n",
       "    .dataframe thead th {\n",
       "        text-align: right;\n",
       "    }\n",
       "</style>\n",
       "<table border=\"1\" class=\"dataframe\">\n",
       "  <thead>\n",
       "    <tr style=\"text-align: right;\">\n",
       "      <th></th>\n",
       "      <th>STOCK_A</th>\n",
       "      <th>STOCK_B</th>\n",
       "    </tr>\n",
       "  </thead>\n",
       "  <tbody>\n",
       "    <tr>\n",
       "      <th>0</th>\n",
       "      <td>0.100000</td>\n",
       "      <td>0.285714</td>\n",
       "    </tr>\n",
       "    <tr>\n",
       "      <th>1</th>\n",
       "      <td>0.090909</td>\n",
       "      <td>-0.111111</td>\n",
       "    </tr>\n",
       "    <tr>\n",
       "      <th>2</th>\n",
       "      <td>0.500000</td>\n",
       "      <td>0.250000</td>\n",
       "    </tr>\n",
       "    <tr>\n",
       "      <th>3</th>\n",
       "      <td>0.833333</td>\n",
       "      <td>0.100000</td>\n",
       "    </tr>\n",
       "    <tr>\n",
       "      <th>4</th>\n",
       "      <td>0.212121</td>\n",
       "      <td>0.090909</td>\n",
       "    </tr>\n",
       "    <tr>\n",
       "      <th>5</th>\n",
       "      <td>-0.175000</td>\n",
       "      <td>0.166667</td>\n",
       "    </tr>\n",
       "  </tbody>\n",
       "</table>\n",
       "</div>"
      ],
      "text/plain": [
       "    STOCK_A   STOCK_B\n",
       "0  0.100000  0.285714\n",
       "1  0.090909 -0.111111\n",
       "2  0.500000  0.250000\n",
       "3  0.833333  0.100000\n",
       "4  0.212121  0.090909\n",
       "5 -0.175000  0.166667"
      ]
     },
     "execution_count": 34,
     "metadata": {},
     "output_type": "execute_result"
    }
   ],
   "source": [
    "#Extracting returns from our data set\n",
    "stock_prices.iloc[1:].values / stock_prices.iloc[:-1] -1"
   ]
  },
  {
   "cell_type": "code",
   "execution_count": 50,
   "metadata": {},
   "outputs": [
    {
     "data": {
      "text/html": [
       "<div>\n",
       "<style scoped>\n",
       "    .dataframe tbody tr th:only-of-type {\n",
       "        vertical-align: middle;\n",
       "    }\n",
       "\n",
       "    .dataframe tbody tr th {\n",
       "        vertical-align: top;\n",
       "    }\n",
       "\n",
       "    .dataframe thead th {\n",
       "        text-align: right;\n",
       "    }\n",
       "</style>\n",
       "<table border=\"1\" class=\"dataframe\">\n",
       "  <thead>\n",
       "    <tr style=\"text-align: right;\">\n",
       "      <th></th>\n",
       "      <th>STOCK_A</th>\n",
       "      <th>STOCK_B</th>\n",
       "    </tr>\n",
       "  </thead>\n",
       "  <tbody>\n",
       "    <tr>\n",
       "      <th>1</th>\n",
       "      <td>1.100000</td>\n",
       "      <td>1.285714</td>\n",
       "    </tr>\n",
       "    <tr>\n",
       "      <th>2</th>\n",
       "      <td>1.090909</td>\n",
       "      <td>0.888889</td>\n",
       "    </tr>\n",
       "    <tr>\n",
       "      <th>3</th>\n",
       "      <td>1.500000</td>\n",
       "      <td>1.250000</td>\n",
       "    </tr>\n",
       "    <tr>\n",
       "      <th>4</th>\n",
       "      <td>1.833333</td>\n",
       "      <td>1.100000</td>\n",
       "    </tr>\n",
       "    <tr>\n",
       "      <th>5</th>\n",
       "      <td>1.212121</td>\n",
       "      <td>1.090909</td>\n",
       "    </tr>\n",
       "    <tr>\n",
       "      <th>6</th>\n",
       "      <td>0.825000</td>\n",
       "      <td>1.166667</td>\n",
       "    </tr>\n",
       "  </tbody>\n",
       "</table>\n",
       "</div>"
      ],
      "text/plain": [
       "    STOCK_A   STOCK_B\n",
       "1  1.100000  1.285714\n",
       "2  1.090909  0.888889\n",
       "3  1.500000  1.250000\n",
       "4  1.833333  1.100000\n",
       "5  1.212121  1.090909\n",
       "6  0.825000  1.166667"
      ]
     },
     "execution_count": 50,
     "metadata": {},
     "output_type": "execute_result"
    }
   ],
   "source": [
    "# We can easily compute return for both stocks this way\n",
    "stock_prices.iloc[1:]/ stock_prices.iloc[:-1].values"
   ]
  },
  {
   "cell_type": "code",
   "execution_count": 40,
   "metadata": {},
   "outputs": [
    {
     "data": {
      "text/html": [
       "<div>\n",
       "<style scoped>\n",
       "    .dataframe tbody tr th:only-of-type {\n",
       "        vertical-align: middle;\n",
       "    }\n",
       "\n",
       "    .dataframe tbody tr th {\n",
       "        vertical-align: top;\n",
       "    }\n",
       "\n",
       "    .dataframe thead th {\n",
       "        text-align: right;\n",
       "    }\n",
       "</style>\n",
       "<table border=\"1\" class=\"dataframe\">\n",
       "  <thead>\n",
       "    <tr style=\"text-align: right;\">\n",
       "      <th></th>\n",
       "      <th>STOCK_A</th>\n",
       "      <th>STOCK_B</th>\n",
       "    </tr>\n",
       "  </thead>\n",
       "  <tbody>\n",
       "    <tr>\n",
       "      <th>0</th>\n",
       "      <td>NaN</td>\n",
       "      <td>NaN</td>\n",
       "    </tr>\n",
       "    <tr>\n",
       "      <th>1</th>\n",
       "      <td>10.0</td>\n",
       "      <td>7.0</td>\n",
       "    </tr>\n",
       "    <tr>\n",
       "      <th>2</th>\n",
       "      <td>11.0</td>\n",
       "      <td>9.0</td>\n",
       "    </tr>\n",
       "    <tr>\n",
       "      <th>3</th>\n",
       "      <td>12.0</td>\n",
       "      <td>8.0</td>\n",
       "    </tr>\n",
       "    <tr>\n",
       "      <th>4</th>\n",
       "      <td>18.0</td>\n",
       "      <td>10.0</td>\n",
       "    </tr>\n",
       "    <tr>\n",
       "      <th>5</th>\n",
       "      <td>33.0</td>\n",
       "      <td>11.0</td>\n",
       "    </tr>\n",
       "    <tr>\n",
       "      <th>6</th>\n",
       "      <td>40.0</td>\n",
       "      <td>12.0</td>\n",
       "    </tr>\n",
       "  </tbody>\n",
       "</table>\n",
       "</div>"
      ],
      "text/plain": [
       "   STOCK_A  STOCK_B\n",
       "0      NaN      NaN\n",
       "1     10.0      7.0\n",
       "2     11.0      9.0\n",
       "3     12.0      8.0\n",
       "4     18.0     10.0\n",
       "5     33.0     11.0\n",
       "6     40.0     12.0"
      ]
     },
     "execution_count": 40,
     "metadata": {},
     "output_type": "execute_result"
    }
   ],
   "source": [
    "# Method to shift prices down 1\n",
    "stock_prices.shift()"
   ]
  },
  {
   "cell_type": "code",
   "execution_count": 42,
   "metadata": {},
   "outputs": [
    {
     "data": {
      "text/html": [
       "<div>\n",
       "<style scoped>\n",
       "    .dataframe tbody tr th:only-of-type {\n",
       "        vertical-align: middle;\n",
       "    }\n",
       "\n",
       "    .dataframe tbody tr th {\n",
       "        vertical-align: top;\n",
       "    }\n",
       "\n",
       "    .dataframe thead th {\n",
       "        text-align: right;\n",
       "    }\n",
       "</style>\n",
       "<table border=\"1\" class=\"dataframe\">\n",
       "  <thead>\n",
       "    <tr style=\"text-align: right;\">\n",
       "      <th></th>\n",
       "      <th>STOCK_A</th>\n",
       "      <th>STOCK_B</th>\n",
       "    </tr>\n",
       "  </thead>\n",
       "  <tbody>\n",
       "    <tr>\n",
       "      <th>0</th>\n",
       "      <td>NaN</td>\n",
       "      <td>NaN</td>\n",
       "    </tr>\n",
       "    <tr>\n",
       "      <th>1</th>\n",
       "      <td>0.100000</td>\n",
       "      <td>0.285714</td>\n",
       "    </tr>\n",
       "    <tr>\n",
       "      <th>2</th>\n",
       "      <td>0.090909</td>\n",
       "      <td>-0.111111</td>\n",
       "    </tr>\n",
       "    <tr>\n",
       "      <th>3</th>\n",
       "      <td>0.500000</td>\n",
       "      <td>0.250000</td>\n",
       "    </tr>\n",
       "    <tr>\n",
       "      <th>4</th>\n",
       "      <td>0.833333</td>\n",
       "      <td>0.100000</td>\n",
       "    </tr>\n",
       "    <tr>\n",
       "      <th>5</th>\n",
       "      <td>0.212121</td>\n",
       "      <td>0.090909</td>\n",
       "    </tr>\n",
       "    <tr>\n",
       "      <th>6</th>\n",
       "      <td>-0.175000</td>\n",
       "      <td>0.166667</td>\n",
       "    </tr>\n",
       "  </tbody>\n",
       "</table>\n",
       "</div>"
      ],
      "text/plain": [
       "    STOCK_A   STOCK_B\n",
       "0       NaN       NaN\n",
       "1  0.100000  0.285714\n",
       "2  0.090909 -0.111111\n",
       "3  0.500000  0.250000\n",
       "4  0.833333  0.100000\n",
       "5  0.212121  0.090909\n",
       "6 -0.175000  0.166667"
      ]
     },
     "execution_count": 42,
     "metadata": {},
     "output_type": "execute_result"
    }
   ],
   "source": [
    "#Can also be used to compute our returns, for the first stock or the second stock\n",
    "stock_a_returns = stock_prices.values / stock_prices.shift(1) - 1\n",
    "stock_a_returns"
   ]
  },
  {
   "cell_type": "markdown",
   "metadata": {},
   "source": [
    "Thankfully, Pandas has already thought about this and has created methods that already do this.\n",
    "As we will later see, the beauty of programming is that it is open source. \n",
    "Anyone can build a class, build methods and allow other to benefit from their efforts."
   ]
  },
  {
   "cell_type": "markdown",
   "metadata": {},
   "source": [
    "## Risk adjusted returns\n",
    "\n",
    "How do we adjust our returns for the level of risk we are taking on"
   ]
  },
  {
   "cell_type": "code",
   "execution_count": 43,
   "metadata": {},
   "outputs": [
    {
     "data": {
      "text/html": [
       "<div>\n",
       "<style scoped>\n",
       "    .dataframe tbody tr th:only-of-type {\n",
       "        vertical-align: middle;\n",
       "    }\n",
       "\n",
       "    .dataframe tbody tr th {\n",
       "        vertical-align: top;\n",
       "    }\n",
       "\n",
       "    .dataframe thead th {\n",
       "        text-align: right;\n",
       "    }\n",
       "</style>\n",
       "<table border=\"1\" class=\"dataframe\">\n",
       "  <thead>\n",
       "    <tr style=\"text-align: right;\">\n",
       "      <th></th>\n",
       "      <th>STOCK_A</th>\n",
       "      <th>STOCK_B</th>\n",
       "    </tr>\n",
       "  </thead>\n",
       "  <tbody>\n",
       "    <tr>\n",
       "      <th>0</th>\n",
       "      <td>NaN</td>\n",
       "      <td>NaN</td>\n",
       "    </tr>\n",
       "    <tr>\n",
       "      <th>1</th>\n",
       "      <td>0.100000</td>\n",
       "      <td>0.285714</td>\n",
       "    </tr>\n",
       "    <tr>\n",
       "      <th>2</th>\n",
       "      <td>0.090909</td>\n",
       "      <td>-0.111111</td>\n",
       "    </tr>\n",
       "    <tr>\n",
       "      <th>3</th>\n",
       "      <td>0.500000</td>\n",
       "      <td>0.250000</td>\n",
       "    </tr>\n",
       "    <tr>\n",
       "      <th>4</th>\n",
       "      <td>0.833333</td>\n",
       "      <td>0.100000</td>\n",
       "    </tr>\n",
       "    <tr>\n",
       "      <th>5</th>\n",
       "      <td>0.212121</td>\n",
       "      <td>0.090909</td>\n",
       "    </tr>\n",
       "    <tr>\n",
       "      <th>6</th>\n",
       "      <td>-0.175000</td>\n",
       "      <td>0.166667</td>\n",
       "    </tr>\n",
       "  </tbody>\n",
       "</table>\n",
       "</div>"
      ],
      "text/plain": [
       "    STOCK_A   STOCK_B\n",
       "0       NaN       NaN\n",
       "1  0.100000  0.285714\n",
       "2  0.090909 -0.111111\n",
       "3  0.500000  0.250000\n",
       "4  0.833333  0.100000\n",
       "5  0.212121  0.090909\n",
       "6 -0.175000  0.166667"
      ]
     },
     "execution_count": 43,
     "metadata": {},
     "output_type": "execute_result"
    }
   ],
   "source": [
    "stock_prices.pct_change() #Add plus 1 if desired"
   ]
  },
  {
   "cell_type": "code",
   "execution_count": 57,
   "metadata": {},
   "outputs": [
    {
     "data": {
      "text/html": [
       "<div>\n",
       "<style scoped>\n",
       "    .dataframe tbody tr th:only-of-type {\n",
       "        vertical-align: middle;\n",
       "    }\n",
       "\n",
       "    .dataframe tbody tr th {\n",
       "        vertical-align: top;\n",
       "    }\n",
       "\n",
       "    .dataframe thead th {\n",
       "        text-align: right;\n",
       "    }\n",
       "</style>\n",
       "<table border=\"1\" class=\"dataframe\">\n",
       "  <thead>\n",
       "    <tr style=\"text-align: right;\">\n",
       "      <th></th>\n",
       "      <th>Stock A</th>\n",
       "      <th>Stock B</th>\n",
       "    </tr>\n",
       "  </thead>\n",
       "  <tbody>\n",
       "    <tr>\n",
       "      <th>0</th>\n",
       "      <td>1.0</td>\n",
       "      <td>1.000000</td>\n",
       "    </tr>\n",
       "    <tr>\n",
       "      <th>1</th>\n",
       "      <td>1.1</td>\n",
       "      <td>1.020000</td>\n",
       "    </tr>\n",
       "    <tr>\n",
       "      <th>2</th>\n",
       "      <td>1.2</td>\n",
       "      <td>1.040400</td>\n",
       "    </tr>\n",
       "    <tr>\n",
       "      <th>3</th>\n",
       "      <td>1.1</td>\n",
       "      <td>1.061208</td>\n",
       "    </tr>\n",
       "    <tr>\n",
       "      <th>4</th>\n",
       "      <td>1.2</td>\n",
       "      <td>1.082432</td>\n",
       "    </tr>\n",
       "    <tr>\n",
       "      <th>5</th>\n",
       "      <td>1.1</td>\n",
       "      <td>1.104081</td>\n",
       "    </tr>\n",
       "    <tr>\n",
       "      <th>6</th>\n",
       "      <td>1.3</td>\n",
       "      <td>1.126162</td>\n",
       "    </tr>\n",
       "    <tr>\n",
       "      <th>7</th>\n",
       "      <td>1.2</td>\n",
       "      <td>1.148686</td>\n",
       "    </tr>\n",
       "    <tr>\n",
       "      <th>8</th>\n",
       "      <td>1.7</td>\n",
       "      <td>1.171659</td>\n",
       "    </tr>\n",
       "    <tr>\n",
       "      <th>9</th>\n",
       "      <td>1.3</td>\n",
       "      <td>1.195093</td>\n",
       "    </tr>\n",
       "    <tr>\n",
       "      <th>10</th>\n",
       "      <td>1.2</td>\n",
       "      <td>1.218994</td>\n",
       "    </tr>\n",
       "    <tr>\n",
       "      <th>11</th>\n",
       "      <td>1.4</td>\n",
       "      <td>1.243374</td>\n",
       "    </tr>\n",
       "    <tr>\n",
       "      <th>12</th>\n",
       "      <td>1.6</td>\n",
       "      <td>1.268242</td>\n",
       "    </tr>\n",
       "    <tr>\n",
       "      <th>13</th>\n",
       "      <td>1.8</td>\n",
       "      <td>1.293607</td>\n",
       "    </tr>\n",
       "    <tr>\n",
       "      <th>14</th>\n",
       "      <td>1.9</td>\n",
       "      <td>1.319479</td>\n",
       "    </tr>\n",
       "    <tr>\n",
       "      <th>15</th>\n",
       "      <td>2.0</td>\n",
       "      <td>1.345868</td>\n",
       "    </tr>\n",
       "    <tr>\n",
       "      <th>16</th>\n",
       "      <td>2.0</td>\n",
       "      <td>1.372786</td>\n",
       "    </tr>\n",
       "    <tr>\n",
       "      <th>17</th>\n",
       "      <td>2.0</td>\n",
       "      <td>1.400241</td>\n",
       "    </tr>\n",
       "    <tr>\n",
       "      <th>18</th>\n",
       "      <td>2.0</td>\n",
       "      <td>1.428246</td>\n",
       "    </tr>\n",
       "    <tr>\n",
       "      <th>19</th>\n",
       "      <td>2.1</td>\n",
       "      <td>1.456811</td>\n",
       "    </tr>\n",
       "    <tr>\n",
       "      <th>20</th>\n",
       "      <td>1.9</td>\n",
       "      <td>1.485947</td>\n",
       "    </tr>\n",
       "    <tr>\n",
       "      <th>21</th>\n",
       "      <td>2.2</td>\n",
       "      <td>1.515666</td>\n",
       "    </tr>\n",
       "    <tr>\n",
       "      <th>22</th>\n",
       "      <td>2.7</td>\n",
       "      <td>1.545980</td>\n",
       "    </tr>\n",
       "    <tr>\n",
       "      <th>23</th>\n",
       "      <td>2.3</td>\n",
       "      <td>1.576899</td>\n",
       "    </tr>\n",
       "    <tr>\n",
       "      <th>24</th>\n",
       "      <td>2.3</td>\n",
       "      <td>1.608437</td>\n",
       "    </tr>\n",
       "  </tbody>\n",
       "</table>\n",
       "</div>"
      ],
      "text/plain": [
       "    Stock A   Stock B\n",
       "0       1.0  1.000000\n",
       "1       1.1  1.020000\n",
       "2       1.2  1.040400\n",
       "3       1.1  1.061208\n",
       "4       1.2  1.082432\n",
       "5       1.1  1.104081\n",
       "6       1.3  1.126162\n",
       "7       1.2  1.148686\n",
       "8       1.7  1.171659\n",
       "9       1.3  1.195093\n",
       "10      1.2  1.218994\n",
       "11      1.4  1.243374\n",
       "12      1.6  1.268242\n",
       "13      1.8  1.293607\n",
       "14      1.9  1.319479\n",
       "15      2.0  1.345868\n",
       "16      2.0  1.372786\n",
       "17      2.0  1.400241\n",
       "18      2.0  1.428246\n",
       "19      2.1  1.456811\n",
       "20      1.9  1.485947\n",
       "21      2.2  1.515666\n",
       "22      2.7  1.545980\n",
       "23      2.3  1.576899\n",
       "24      2.3  1.608437"
      ]
     },
     "execution_count": 57,
     "metadata": {},
     "output_type": "execute_result"
    }
   ],
   "source": [
    "sampled_prices = pd.read_csv('Documents/sample_price_data.csv')\n",
    "sampled_prices"
   ]
  },
  {
   "cell_type": "code",
   "execution_count": 56,
   "metadata": {},
   "outputs": [
    {
     "data": {
      "text/html": [
       "<div>\n",
       "<style scoped>\n",
       "    .dataframe tbody tr th:only-of-type {\n",
       "        vertical-align: middle;\n",
       "    }\n",
       "\n",
       "    .dataframe tbody tr th {\n",
       "        vertical-align: top;\n",
       "    }\n",
       "\n",
       "    .dataframe thead th {\n",
       "        text-align: right;\n",
       "    }\n",
       "</style>\n",
       "<table border=\"1\" class=\"dataframe\">\n",
       "  <thead>\n",
       "    <tr style=\"text-align: right;\">\n",
       "      <th></th>\n",
       "      <th>Stock A</th>\n",
       "      <th>Stock B</th>\n",
       "    </tr>\n",
       "  </thead>\n",
       "  <tbody>\n",
       "    <tr>\n",
       "      <th>0</th>\n",
       "      <td>NaN</td>\n",
       "      <td>NaN</td>\n",
       "    </tr>\n",
       "    <tr>\n",
       "      <th>1</th>\n",
       "      <td>0.100000</td>\n",
       "      <td>0.02</td>\n",
       "    </tr>\n",
       "    <tr>\n",
       "      <th>2</th>\n",
       "      <td>0.090909</td>\n",
       "      <td>0.02</td>\n",
       "    </tr>\n",
       "    <tr>\n",
       "      <th>3</th>\n",
       "      <td>-0.083333</td>\n",
       "      <td>0.02</td>\n",
       "    </tr>\n",
       "    <tr>\n",
       "      <th>4</th>\n",
       "      <td>0.090909</td>\n",
       "      <td>0.02</td>\n",
       "    </tr>\n",
       "    <tr>\n",
       "      <th>5</th>\n",
       "      <td>-0.083333</td>\n",
       "      <td>0.02</td>\n",
       "    </tr>\n",
       "    <tr>\n",
       "      <th>6</th>\n",
       "      <td>0.181818</td>\n",
       "      <td>0.02</td>\n",
       "    </tr>\n",
       "    <tr>\n",
       "      <th>7</th>\n",
       "      <td>-0.076923</td>\n",
       "      <td>0.02</td>\n",
       "    </tr>\n",
       "    <tr>\n",
       "      <th>8</th>\n",
       "      <td>0.416667</td>\n",
       "      <td>0.02</td>\n",
       "    </tr>\n",
       "    <tr>\n",
       "      <th>9</th>\n",
       "      <td>-0.235294</td>\n",
       "      <td>0.02</td>\n",
       "    </tr>\n",
       "    <tr>\n",
       "      <th>10</th>\n",
       "      <td>-0.076923</td>\n",
       "      <td>0.02</td>\n",
       "    </tr>\n",
       "    <tr>\n",
       "      <th>11</th>\n",
       "      <td>0.166667</td>\n",
       "      <td>0.02</td>\n",
       "    </tr>\n",
       "    <tr>\n",
       "      <th>12</th>\n",
       "      <td>0.142857</td>\n",
       "      <td>0.02</td>\n",
       "    </tr>\n",
       "    <tr>\n",
       "      <th>13</th>\n",
       "      <td>0.125000</td>\n",
       "      <td>0.02</td>\n",
       "    </tr>\n",
       "    <tr>\n",
       "      <th>14</th>\n",
       "      <td>0.055556</td>\n",
       "      <td>0.02</td>\n",
       "    </tr>\n",
       "    <tr>\n",
       "      <th>15</th>\n",
       "      <td>0.052632</td>\n",
       "      <td>0.02</td>\n",
       "    </tr>\n",
       "    <tr>\n",
       "      <th>16</th>\n",
       "      <td>0.000000</td>\n",
       "      <td>0.02</td>\n",
       "    </tr>\n",
       "    <tr>\n",
       "      <th>17</th>\n",
       "      <td>0.000000</td>\n",
       "      <td>0.02</td>\n",
       "    </tr>\n",
       "    <tr>\n",
       "      <th>18</th>\n",
       "      <td>0.000000</td>\n",
       "      <td>0.02</td>\n",
       "    </tr>\n",
       "    <tr>\n",
       "      <th>19</th>\n",
       "      <td>0.050000</td>\n",
       "      <td>0.02</td>\n",
       "    </tr>\n",
       "    <tr>\n",
       "      <th>20</th>\n",
       "      <td>-0.095238</td>\n",
       "      <td>0.02</td>\n",
       "    </tr>\n",
       "    <tr>\n",
       "      <th>21</th>\n",
       "      <td>0.157895</td>\n",
       "      <td>0.02</td>\n",
       "    </tr>\n",
       "    <tr>\n",
       "      <th>22</th>\n",
       "      <td>0.227273</td>\n",
       "      <td>0.02</td>\n",
       "    </tr>\n",
       "    <tr>\n",
       "      <th>23</th>\n",
       "      <td>-0.148148</td>\n",
       "      <td>0.02</td>\n",
       "    </tr>\n",
       "    <tr>\n",
       "      <th>24</th>\n",
       "      <td>0.000000</td>\n",
       "      <td>0.02</td>\n",
       "    </tr>\n",
       "  </tbody>\n",
       "</table>\n",
       "</div>"
      ],
      "text/plain": [
       "     Stock A  Stock B\n",
       "0        NaN      NaN\n",
       "1   0.100000     0.02\n",
       "2   0.090909     0.02\n",
       "3  -0.083333     0.02\n",
       "4   0.090909     0.02\n",
       "5  -0.083333     0.02\n",
       "6   0.181818     0.02\n",
       "7  -0.076923     0.02\n",
       "8   0.416667     0.02\n",
       "9  -0.235294     0.02\n",
       "10 -0.076923     0.02\n",
       "11  0.166667     0.02\n",
       "12  0.142857     0.02\n",
       "13  0.125000     0.02\n",
       "14  0.055556     0.02\n",
       "15  0.052632     0.02\n",
       "16  0.000000     0.02\n",
       "17  0.000000     0.02\n",
       "18  0.000000     0.02\n",
       "19  0.050000     0.02\n",
       "20 -0.095238     0.02\n",
       "21  0.157895     0.02\n",
       "22  0.227273     0.02\n",
       "23 -0.148148     0.02\n",
       "24  0.000000     0.02"
      ]
     },
     "execution_count": 56,
     "metadata": {},
     "output_type": "execute_result"
    }
   ],
   "source": [
    "returns = sampled_prices.pct_change()\n",
    "returns"
   ]
  },
  {
   "cell_type": "code",
   "execution_count": 65,
   "metadata": {},
   "outputs": [
    {
     "data": {
      "text/html": [
       "<div>\n",
       "<style scoped>\n",
       "    .dataframe tbody tr th:only-of-type {\n",
       "        vertical-align: middle;\n",
       "    }\n",
       "\n",
       "    .dataframe tbody tr th {\n",
       "        vertical-align: top;\n",
       "    }\n",
       "\n",
       "    .dataframe thead th {\n",
       "        text-align: right;\n",
       "    }\n",
       "</style>\n",
       "<table border=\"1\" class=\"dataframe\">\n",
       "  <thead>\n",
       "    <tr style=\"text-align: right;\">\n",
       "      <th></th>\n",
       "      <th>Stock A</th>\n",
       "      <th>Stock B</th>\n",
       "    </tr>\n",
       "  </thead>\n",
       "  <tbody>\n",
       "    <tr>\n",
       "      <th>1</th>\n",
       "      <td>0.100000</td>\n",
       "      <td>0.02</td>\n",
       "    </tr>\n",
       "    <tr>\n",
       "      <th>2</th>\n",
       "      <td>0.090909</td>\n",
       "      <td>0.02</td>\n",
       "    </tr>\n",
       "    <tr>\n",
       "      <th>3</th>\n",
       "      <td>-0.083333</td>\n",
       "      <td>0.02</td>\n",
       "    </tr>\n",
       "    <tr>\n",
       "      <th>4</th>\n",
       "      <td>0.090909</td>\n",
       "      <td>0.02</td>\n",
       "    </tr>\n",
       "    <tr>\n",
       "      <th>5</th>\n",
       "      <td>-0.083333</td>\n",
       "      <td>0.02</td>\n",
       "    </tr>\n",
       "    <tr>\n",
       "      <th>6</th>\n",
       "      <td>0.181818</td>\n",
       "      <td>0.02</td>\n",
       "    </tr>\n",
       "    <tr>\n",
       "      <th>7</th>\n",
       "      <td>-0.076923</td>\n",
       "      <td>0.02</td>\n",
       "    </tr>\n",
       "    <tr>\n",
       "      <th>8</th>\n",
       "      <td>0.416667</td>\n",
       "      <td>0.02</td>\n",
       "    </tr>\n",
       "    <tr>\n",
       "      <th>9</th>\n",
       "      <td>-0.235294</td>\n",
       "      <td>0.02</td>\n",
       "    </tr>\n",
       "    <tr>\n",
       "      <th>10</th>\n",
       "      <td>-0.076923</td>\n",
       "      <td>0.02</td>\n",
       "    </tr>\n",
       "    <tr>\n",
       "      <th>11</th>\n",
       "      <td>0.166667</td>\n",
       "      <td>0.02</td>\n",
       "    </tr>\n",
       "    <tr>\n",
       "      <th>12</th>\n",
       "      <td>0.142857</td>\n",
       "      <td>0.02</td>\n",
       "    </tr>\n",
       "    <tr>\n",
       "      <th>13</th>\n",
       "      <td>0.125000</td>\n",
       "      <td>0.02</td>\n",
       "    </tr>\n",
       "    <tr>\n",
       "      <th>14</th>\n",
       "      <td>0.055556</td>\n",
       "      <td>0.02</td>\n",
       "    </tr>\n",
       "    <tr>\n",
       "      <th>15</th>\n",
       "      <td>0.052632</td>\n",
       "      <td>0.02</td>\n",
       "    </tr>\n",
       "    <tr>\n",
       "      <th>16</th>\n",
       "      <td>0.000000</td>\n",
       "      <td>0.02</td>\n",
       "    </tr>\n",
       "    <tr>\n",
       "      <th>17</th>\n",
       "      <td>0.000000</td>\n",
       "      <td>0.02</td>\n",
       "    </tr>\n",
       "    <tr>\n",
       "      <th>18</th>\n",
       "      <td>0.000000</td>\n",
       "      <td>0.02</td>\n",
       "    </tr>\n",
       "    <tr>\n",
       "      <th>19</th>\n",
       "      <td>0.050000</td>\n",
       "      <td>0.02</td>\n",
       "    </tr>\n",
       "    <tr>\n",
       "      <th>20</th>\n",
       "      <td>-0.095238</td>\n",
       "      <td>0.02</td>\n",
       "    </tr>\n",
       "    <tr>\n",
       "      <th>21</th>\n",
       "      <td>0.157895</td>\n",
       "      <td>0.02</td>\n",
       "    </tr>\n",
       "    <tr>\n",
       "      <th>22</th>\n",
       "      <td>0.227273</td>\n",
       "      <td>0.02</td>\n",
       "    </tr>\n",
       "    <tr>\n",
       "      <th>23</th>\n",
       "      <td>-0.148148</td>\n",
       "      <td>0.02</td>\n",
       "    </tr>\n",
       "    <tr>\n",
       "      <th>24</th>\n",
       "      <td>0.000000</td>\n",
       "      <td>0.02</td>\n",
       "    </tr>\n",
       "  </tbody>\n",
       "</table>\n",
       "</div>"
      ],
      "text/plain": [
       "     Stock A  Stock B\n",
       "1   0.100000     0.02\n",
       "2   0.090909     0.02\n",
       "3  -0.083333     0.02\n",
       "4   0.090909     0.02\n",
       "5  -0.083333     0.02\n",
       "6   0.181818     0.02\n",
       "7  -0.076923     0.02\n",
       "8   0.416667     0.02\n",
       "9  -0.235294     0.02\n",
       "10 -0.076923     0.02\n",
       "11  0.166667     0.02\n",
       "12  0.142857     0.02\n",
       "13  0.125000     0.02\n",
       "14  0.055556     0.02\n",
       "15  0.052632     0.02\n",
       "16  0.000000     0.02\n",
       "17  0.000000     0.02\n",
       "18  0.000000     0.02\n",
       "19  0.050000     0.02\n",
       "20 -0.095238     0.02\n",
       "21  0.157895     0.02\n",
       "22  0.227273     0.02\n",
       "23 -0.148148     0.02\n",
       "24  0.000000     0.02"
      ]
     },
     "execution_count": 65,
     "metadata": {},
     "output_type": "execute_result"
    }
   ],
   "source": [
    "returns.dropna()"
   ]
  },
  {
   "cell_type": "code",
   "execution_count": 58,
   "metadata": {},
   "outputs": [
    {
     "data": {
      "text/plain": [
       "Stock A    1.394596e-01\n",
       "Stock B    3.156213e-10\n",
       "dtype: float64"
      ]
     },
     "execution_count": 58,
     "metadata": {},
     "output_type": "execute_result"
    }
   ],
   "source": [
    "returns.std()"
   ]
  },
  {
   "cell_type": "code",
   "execution_count": 59,
   "metadata": {},
   "outputs": [
    {
     "data": {
      "text/plain": [
       "Stock A    1.365232e-01\n",
       "Stock B    3.089759e-10\n",
       "dtype: float64"
      ]
     },
     "execution_count": 59,
     "metadata": {},
     "output_type": "execute_result"
    }
   ],
   "source": [
    "# This will give a slightly diffrent answer due to using population\n",
    "# rather than sample distribution\n",
    "\n",
    "deviations = returns - returns.mean()\n",
    "squared_deviations = deviations**2\n",
    "variance = squared_deviations.mean()\n",
    "volatility = variance**0.5\n",
    "\n",
    "# or we can do\n",
    "volatility = np.sqrt(variance)\n",
    "volatility"
   ]
  },
  {
   "cell_type": "code",
   "execution_count": 60,
   "metadata": {},
   "outputs": [
    {
     "data": {
      "text/plain": [
       "(25, 2)"
      ]
     },
     "execution_count": 60,
     "metadata": {},
     "output_type": "execute_result"
    }
   ],
   "source": [
    "returns.shape"
   ]
  },
  {
   "cell_type": "code",
   "execution_count": 63,
   "metadata": {},
   "outputs": [
    {
     "data": {
      "text/plain": [
       "Stock A    1.394596e-01\n",
       "Stock B    3.156213e-10\n",
       "dtype: float64"
      ]
     },
     "execution_count": 63,
     "metadata": {},
     "output_type": "execute_result"
    }
   ],
   "source": [
    "num_of_obs = returns.shape[0]\n",
    "variance = squared_deviations.sum() / (num_of_obs - 2)\n",
    "volatility = variance**0.5\n",
    "volatility"
   ]
  },
  {
   "cell_type": "code",
   "execution_count": 72,
   "metadata": {},
   "outputs": [
    {
     "data": {
      "text/plain": [
       "Stock A    4.831021e-01\n",
       "Stock B    1.093344e-09\n",
       "dtype: float64"
      ]
     },
     "execution_count": 72,
     "metadata": {},
     "output_type": "execute_result"
    }
   ],
   "source": [
    "returns.std()*np.sqrt(12)"
   ]
  },
  {
   "cell_type": "markdown",
   "metadata": {},
   "source": [
    "-----------------------------------------------------------------------"
   ]
  },
  {
   "cell_type": "markdown",
   "metadata": {},
   "source": [
    "# How will get access stock Data?\n",
    "\n",
    "To get access to stock data we have multiple possibilities:\n",
    "\n",
    "1. Find an excel file and read it into Python\n",
    "\n",
    "This can be done using using the read_csv function we have already seen in the following fashion: \n",
    "\n",
    "- dataframe = pd.read_csv('File Path')\n",
    "\n",
    "\n",
    "2. Import packages into our python code and use predefined methods to access the data\n",
    "\n",
    "This can be done using the pandad_datareader.data package for example which we can import as web to shorten its name:\n",
    "\n",
    "- import pandas_datareader.data as web\n",
    "- web.DataReader(\"StockTicker\", \"source\", start_date, end_date)\n",
    "\n",
    "3. Use a combination of both! We can import the data using the data reader and  the .to_csv method to download:\n",
    "\n",
    "- import pandas_datareader.data as web\n",
    "- stock = web.DataReader(\"StockTicker\", \"source\", start_date, end_date)\n",
    "- stock.to_csv(\"FilePath.csv\")\n",
    "\n",
    "NOTE: To access the data reader you must first pip install the pandas data_reader package. To do this use your terminal and simply type in:\n",
    "\n",
    "- pip install pandas-datareader\n"
   ]
  },
  {
   "cell_type": "markdown",
   "metadata": {},
   "source": [
    "# What is the data reader?\n",
    "\n",
    "\n",
    "Data Reader is a package that allows you to read off of important stock API's such as AlphaVantage, NASDAQ API, St.Louis FED (FRED, Yahoo Finance and more. It will most definitely the most useful thing you can use to access stock data.\n",
    "\n",
    "You can find information regarding this package at this link:\n",
    "https://readthedocs.org/projects/pandas-datareader/downloads/pdf/latest/\n"
   ]
  },
  {
   "cell_type": "code",
   "execution_count": 1,
   "metadata": {},
   "outputs": [],
   "source": [
    "import numpy as np\n",
    "import pandas_datareader.data as web\n",
    "import pandas as pd\n",
    "import datetime as dt"
   ]
  },
  {
   "cell_type": "code",
   "execution_count": 3,
   "metadata": {},
   "outputs": [],
   "source": [
    "start = dt.datetime(2017,1,1)\n",
    "end = dt.datetime(2021,3,15)"
   ]
  },
  {
   "cell_type": "code",
   "execution_count": 4,
   "metadata": {},
   "outputs": [],
   "source": [
    "google = web.DataReader(\"GOOGL\", 'yahoo',start,end)\n",
    "apple = web.DataReader(\"AAPL\", \"yahoo\",start,end)"
   ]
  },
  {
   "cell_type": "code",
   "execution_count": 21,
   "metadata": {
    "scrolled": true
   },
   "outputs": [],
   "source": [
    "# apple.head()"
   ]
  },
  {
   "cell_type": "code",
   "execution_count": 14,
   "metadata": {},
   "outputs": [],
   "source": [
    "#Note that we can play around with this dataFrame\n",
    "apple['Returns'] = apple['Adj Close'].pct_change()\n",
    "google['Returns'] = google['Adj Close'].pct_change()"
   ]
  },
  {
   "cell_type": "code",
   "execution_count": 35,
   "metadata": {},
   "outputs": [],
   "source": [
    "# apple.tail()"
   ]
  },
  {
   "cell_type": "code",
   "execution_count": 20,
   "metadata": {},
   "outputs": [],
   "source": [
    "# apple.iloc[50:100]"
   ]
  },
  {
   "cell_type": "markdown",
   "metadata": {},
   "source": [
    "# Let's visualize our data\n",
    "\n",
    "To visualize our data we will use matplotlib to generate time series graphs, histograms scatterplots and more. Again, matplotlib is a python library that can be imported into your code. The library contains functions and methods that can be used from within python.\n"
   ]
  },
  {
   "cell_type": "code",
   "execution_count": 23,
   "metadata": {},
   "outputs": [],
   "source": [
    "import matplotlib.pyplot as plt\n",
    "%matplotlib inline"
   ]
  },
  {
   "cell_type": "code",
   "execution_count": 24,
   "metadata": {},
   "outputs": [
    {
     "data": {
      "image/png": "[encoded data removed]",
      "text/plain": [
       "<Figure size 1080x504 with 1 Axes>"
      ]
     },
     "metadata": {
      "needs_background": "light"
     },
     "output_type": "display_data"
    }
   ],
   "source": [
    "# We can plot time series using the .plot method in the matplotlib library\n",
    "# Other methods such as plt.legend are used to obtain a legend in our graph\n",
    "# We can also change the size of our plot using figsize\n",
    "\n",
    "google[\"Adj Close\"].plot(label = 'google AdjClose price', color = 'blue', figsize = (15,7))\n",
    "apple[\"Adj Close\"].plot(label = 'apple AdjClose price', color = 'red')\n",
    "\n",
    "plt.legend()\n",
    "plt.title('Google Stock Price')\n",
    "plt.ylabel(\"Stock Price\")\n",
    "plt.show()"
   ]
  },
  {
   "cell_type": "code",
   "execution_count": 34,
   "metadata": {},
   "outputs": [
    {
     "data": {
      "image/png": "[encoded data removed]",
      "text/plain": [
       "<Figure size 1080x504 with 1 Axes>"
      ]
     },
     "metadata": {
      "needs_background": "light"
     },
     "output_type": "display_data"
    }
   ],
   "source": [
    "google[\"Returns\"].plot(label = 'google AdjClose price', color = 'blue', figsize = (15,7))\n",
    "apple[\"Returns\"].plot(label = 'apple AdjClose price', color = 'red', alpha = 0.4)\n",
    "\n",
    "plt.legend()\n",
    "plt.title('Returns')\n",
    "plt.ylabel(\"Stock Price\")\n",
    "plt.show()"
   ]
  },
  {
   "cell_type": "code",
   "execution_count": 66,
   "metadata": {},
   "outputs": [
    {
     "data": {
      "image/png": "[encoded data removed]",
      "text/plain": [
       "<Figure size 1224x360 with 1 Axes>"
      ]
     },
     "metadata": {
      "needs_background": "light"
     },
     "output_type": "display_data"
    }
   ],
   "source": [
    "# We can also plot other metrics in our data frame like volumes\n",
    "\n",
    "google['Volume'].plot(figsize = (17,5))\n",
    "plt.ylabel(\"Volume Traded\")\n",
    "plt.show()"
   ]
  },
  {
   "cell_type": "markdown",
   "metadata": {},
   "source": [
    "# Dowloading and reading Data in from Excel \n",
    "\n",
    "As mentioned, if we would like to have the files on our own computer and read them in from excel, this is possible! We use the .to_csv function to do so. This function is part of the pandas library and allows us to store a data frame found online into a csv file.\n",
    "\n",
    "## What is a file path?\n",
    "A file path is a string used to denote the place in your computer where is a file is or should go. The typical format for a file path is as follows:\n",
    "\n",
    "- 'Directory/subdirectory/filename.filetype'"
   ]
  },
  {
   "cell_type": "code",
   "execution_count": 36,
   "metadata": {},
   "outputs": [],
   "source": [
    "tesla = web.DataReader(\"TSLA\", 'yahoo', start , end)\n",
    "tesla.to_csv('Documents/Trading/Tesla_Stock.csv')"
   ]
  },
  {
   "cell_type": "markdown",
   "metadata": {},
   "source": [
    "You can now find this file in your documents in the specific filepath you created for it"
   ]
  },
  {
   "cell_type": "code",
   "execution_count": 47,
   "metadata": {},
   "outputs": [],
   "source": [
    "tesla['Returns'] = tesla[\"Adj Close\"].pct_change()\n",
    "tesla.to_csv('Documents/Trading/Tesla_Stock.csv')"
   ]
  },
  {
   "cell_type": "code",
   "execution_count": 42,
   "metadata": {},
   "outputs": [
    {
     "data": {
      "image/png": "[encoded data removed]",
      "text/plain": [
       "<Figure size 1080x504 with 1 Axes>"
      ]
     },
     "metadata": {
      "needs_background": "light"
     },
     "output_type": "display_data"
    }
   ],
   "source": [
    "tesla[\"Adj Close\"].plot(title = 'TSLA AdjClose price', \n",
    "                        color = 'blue',\n",
    "                        figsize = (15,7))\n",
    "plt.show()"
   ]
  },
  {
   "cell_type": "code",
   "execution_count": 43,
   "metadata": {},
   "outputs": [
    {
     "data": {
      "image/png": "[encoded data removed]",
      "text/plain": [
       "<Figure size 1080x504 with 1 Axes>"
      ]
     },
     "metadata": {
      "needs_background": "light"
     },
     "output_type": "display_data"
    }
   ],
   "source": [
    "tesla[\"Returns\"].plot(title = 'TSLA Returns',\n",
    "                        color = 'blue',\n",
    "                        figsize = (15,7))\n",
    "plt.show()"
   ]
  },
  {
   "cell_type": "code",
   "execution_count": 54,
   "metadata": {},
   "outputs": [
    {
     "data": {
      "image/png": "[encoded data removed]",
      "text/plain": [
       "<Figure size 432x288 with 1 Axes>"
      ]
     },
     "metadata": {
      "needs_background": "light"
     },
     "output_type": "display_data"
    }
   ],
   "source": [
    "tesla.iloc[1000:1056][\"Adj Close\"].plot( label = \"TSLA Adj Close Price sample\")\n",
    "plt.show()"
   ]
  },
  {
   "cell_type": "code",
   "execution_count": 68,
   "metadata": {},
   "outputs": [
    {
     "data": {
      "text/html": [
       "<div>\n",
       "<style scoped>\n",
       "    .dataframe tbody tr th:only-of-type {\n",
       "        vertical-align: middle;\n",
       "    }\n",
       "\n",
       "    .dataframe tbody tr th {\n",
       "        vertical-align: top;\n",
       "    }\n",
       "\n",
       "    .dataframe thead th {\n",
       "        text-align: right;\n",
       "    }\n",
       "</style>\n",
       "<table border=\"1\" class=\"dataframe\">\n",
       "  <thead>\n",
       "    <tr style=\"text-align: right;\">\n",
       "      <th></th>\n",
       "      <th>High</th>\n",
       "      <th>Low</th>\n",
       "      <th>Open</th>\n",
       "      <th>Close</th>\n",
       "      <th>Volume</th>\n",
       "      <th>Adj Close</th>\n",
       "      <th>Returns</th>\n",
       "      <th>Total Traded</th>\n",
       "      <th>Shares Traded</th>\n",
       "    </tr>\n",
       "    <tr>\n",
       "      <th>Date</th>\n",
       "      <th></th>\n",
       "      <th></th>\n",
       "      <th></th>\n",
       "      <th></th>\n",
       "      <th></th>\n",
       "      <th></th>\n",
       "      <th></th>\n",
       "      <th></th>\n",
       "      <th></th>\n",
       "    </tr>\n",
       "  </thead>\n",
       "  <tbody>\n",
       "    <tr>\n",
       "      <th>2017-01-03</th>\n",
       "      <td>44.066002</td>\n",
       "      <td>42.192001</td>\n",
       "      <td>42.972000</td>\n",
       "      <td>43.397999</td>\n",
       "      <td>29616500.0</td>\n",
       "      <td>43.397999</td>\n",
       "      <td>NaN</td>\n",
       "      <td>6.892046e+05</td>\n",
       "      <td>6.892046e+05</td>\n",
       "    </tr>\n",
       "    <tr>\n",
       "      <th>2017-01-04</th>\n",
       "      <td>45.599998</td>\n",
       "      <td>42.862000</td>\n",
       "      <td>42.950001</td>\n",
       "      <td>45.397999</td>\n",
       "      <td>56067500.0</td>\n",
       "      <td>45.397999</td>\n",
       "      <td>0.046085</td>\n",
       "      <td>1.305413e+06</td>\n",
       "      <td>1.305413e+06</td>\n",
       "    </tr>\n",
       "    <tr>\n",
       "      <th>2017-01-05</th>\n",
       "      <td>45.495998</td>\n",
       "      <td>44.389999</td>\n",
       "      <td>45.284000</td>\n",
       "      <td>45.349998</td>\n",
       "      <td>29558500.0</td>\n",
       "      <td>45.349998</td>\n",
       "      <td>-0.001057</td>\n",
       "      <td>6.527361e+05</td>\n",
       "      <td>6.527361e+05</td>\n",
       "    </tr>\n",
       "    <tr>\n",
       "      <th>2017-01-06</th>\n",
       "      <td>46.062000</td>\n",
       "      <td>45.090000</td>\n",
       "      <td>45.386002</td>\n",
       "      <td>45.801998</td>\n",
       "      <td>27639500.0</td>\n",
       "      <td>45.801998</td>\n",
       "      <td>0.009967</td>\n",
       "      <td>6.089873e+05</td>\n",
       "      <td>6.089873e+05</td>\n",
       "    </tr>\n",
       "    <tr>\n",
       "      <th>2017-01-09</th>\n",
       "      <td>46.383999</td>\n",
       "      <td>45.599998</td>\n",
       "      <td>45.793999</td>\n",
       "      <td>46.256001</td>\n",
       "      <td>19897500.0</td>\n",
       "      <td>46.256001</td>\n",
       "      <td>0.009912</td>\n",
       "      <td>4.345002e+05</td>\n",
       "      <td>4.345002e+05</td>\n",
       "    </tr>\n",
       "  </tbody>\n",
       "</table>\n",
       "</div>"
      ],
      "text/plain": [
       "                 High        Low       Open      Close      Volume  Adj Close  \\\n",
       "Date                                                                            \n",
       "2017-01-03  44.066002  42.192001  42.972000  43.397999  29616500.0  43.397999   \n",
       "2017-01-04  45.599998  42.862000  42.950001  45.397999  56067500.0  45.397999   \n",
       "2017-01-05  45.495998  44.389999  45.284000  45.349998  29558500.0  45.349998   \n",
       "2017-01-06  46.062000  45.090000  45.386002  45.801998  27639500.0  45.801998   \n",
       "2017-01-09  46.383999  45.599998  45.793999  46.256001  19897500.0  46.256001   \n",
       "\n",
       "             Returns  Total Traded  Shares Traded  \n",
       "Date                                               \n",
       "2017-01-03       NaN  6.892046e+05   6.892046e+05  \n",
       "2017-01-04  0.046085  1.305413e+06   1.305413e+06  \n",
       "2017-01-05 -0.001057  6.527361e+05   6.527361e+05  \n",
       "2017-01-06  0.009967  6.089873e+05   6.089873e+05  \n",
       "2017-01-09  0.009912  4.345002e+05   4.345002e+05  "
      ]
     },
     "execution_count": 68,
     "metadata": {},
     "output_type": "execute_result"
    }
   ],
   "source": [
    "# Finding Volume in dollars\n",
    "tesla[\"Shares Traded\"] = tesla[\"Volume\"] / tesla[\"Open\"]\n",
    "tesla.head()"
   ]
  },
  {
   "cell_type": "code",
   "execution_count": 70,
   "metadata": {
    "collapsed": true,
    "jupyter": {
     "outputs_hidden": true,
     "source_hidden": true
    }
   },
   "outputs": [
    {
     "data": {
      "image/png": "[encoded data removed]",
      "text/plain": [
       "<Figure size 432x288 with 1 Axes>"
      ]
     },
     "metadata": {
      "needs_background": "light"
     },
     "output_type": "display_data"
    }
   ],
   "source": [
    "tesla['Shares Traded'].plot(label = \"Shares Traded\", )\n",
    "plt.ylabel = \"Volume\"\n",
    "plt.legend()\n",
    "plt.show()"
   ]
  },
  {
   "cell_type": "code",
   "execution_count": 71,
   "metadata": {},
   "outputs": [
    {
     "data": {
      "text/plain": [
       "600"
      ]
     },
     "execution_count": 71,
     "metadata": {},
     "output_type": "execute_result"
    }
   ],
   "source": [
    "# How can we find the day that Teslas Volume peaked?\n",
    "tesla[\"Total Traded\"].argmax()"
   ]
  },
  {
   "cell_type": "code",
   "execution_count": 72,
   "metadata": {},
   "outputs": [
    {
     "data": {
      "text/html": [
       "<div>\n",
       "<style scoped>\n",
       "    .dataframe tbody tr th:only-of-type {\n",
       "        vertical-align: middle;\n",
       "    }\n",
       "\n",
       "    .dataframe tbody tr th {\n",
       "        vertical-align: top;\n",
       "    }\n",
       "\n",
       "    .dataframe thead th {\n",
       "        text-align: right;\n",
       "    }\n",
       "</style>\n",
       "<table border=\"1\" class=\"dataframe\">\n",
       "  <thead>\n",
       "    <tr style=\"text-align: right;\">\n",
       "      <th></th>\n",
       "      <th>High</th>\n",
       "      <th>Low</th>\n",
       "      <th>Open</th>\n",
       "      <th>Close</th>\n",
       "      <th>Volume</th>\n",
       "      <th>Adj Close</th>\n",
       "      <th>Returns</th>\n",
       "      <th>Total Traded</th>\n",
       "      <th>Shares Traded</th>\n",
       "    </tr>\n",
       "    <tr>\n",
       "      <th>Date</th>\n",
       "      <th></th>\n",
       "      <th></th>\n",
       "      <th></th>\n",
       "      <th></th>\n",
       "      <th></th>\n",
       "      <th></th>\n",
       "      <th></th>\n",
       "      <th></th>\n",
       "      <th></th>\n",
       "    </tr>\n",
       "  </thead>\n",
       "  <tbody>\n",
       "    <tr>\n",
       "      <th>2019-05-23</th>\n",
       "      <td>39.894001</td>\n",
       "      <td>37.243999</td>\n",
       "      <td>38.868</td>\n",
       "      <td>39.098</td>\n",
       "      <td>132735500.0</td>\n",
       "      <td>39.098</td>\n",
       "      <td>0.014321</td>\n",
       "      <td>3.415033e+06</td>\n",
       "      <td>3.415033e+06</td>\n",
       "    </tr>\n",
       "  </tbody>\n",
       "</table>\n",
       "</div>"
      ],
      "text/plain": [
       "                 High        Low    Open   Close       Volume  Adj Close  \\\n",
       "Date                                                                       \n",
       "2019-05-23  39.894001  37.243999  38.868  39.098  132735500.0     39.098   \n",
       "\n",
       "             Returns  Total Traded  Shares Traded  \n",
       "Date                                               \n",
       "2019-05-23  0.014321  3.415033e+06   3.415033e+06  "
      ]
     },
     "execution_count": 72,
     "metadata": {},
     "output_type": "execute_result"
    }
   ],
   "source": [
    "tesla.iloc[[tesla[\"Total Traded\"].argmax()]]"
   ]
  },
  {
   "cell_type": "code",
   "execution_count": 74,
   "metadata": {},
   "outputs": [],
   "source": [
    "tesla[\"MA 50\"] = tesla[\"Adj Close\"].rolling(30).mean()"
   ]
  },
  {
   "cell_type": "code",
   "execution_count": 75,
   "metadata": {},
   "outputs": [
    {
     "data": {
      "text/html": [
       "<div>\n",
       "<style scoped>\n",
       "    .dataframe tbody tr th:only-of-type {\n",
       "        vertical-align: middle;\n",
       "    }\n",
       "\n",
       "    .dataframe tbody tr th {\n",
       "        vertical-align: top;\n",
       "    }\n",
       "\n",
       "    .dataframe thead th {\n",
       "        text-align: right;\n",
       "    }\n",
       "</style>\n",
       "<table border=\"1\" class=\"dataframe\">\n",
       "  <thead>\n",
       "    <tr style=\"text-align: right;\">\n",
       "      <th></th>\n",
       "      <th>High</th>\n",
       "      <th>Low</th>\n",
       "      <th>Open</th>\n",
       "      <th>Close</th>\n",
       "      <th>Volume</th>\n",
       "      <th>Adj Close</th>\n",
       "      <th>Returns</th>\n",
       "      <th>Total Traded</th>\n",
       "      <th>Shares Traded</th>\n",
       "      <th>MA 50</th>\n",
       "    </tr>\n",
       "    <tr>\n",
       "      <th>Date</th>\n",
       "      <th></th>\n",
       "      <th></th>\n",
       "      <th></th>\n",
       "      <th></th>\n",
       "      <th></th>\n",
       "      <th></th>\n",
       "      <th></th>\n",
       "      <th></th>\n",
       "      <th></th>\n",
       "      <th></th>\n",
       "    </tr>\n",
       "  </thead>\n",
       "  <tbody>\n",
       "    <tr>\n",
       "      <th>2021-03-09</th>\n",
       "      <td>678.090027</td>\n",
       "      <td>595.210022</td>\n",
       "      <td>608.179993</td>\n",
       "      <td>673.580017</td>\n",
       "      <td>67523300.0</td>\n",
       "      <td>673.580017</td>\n",
       "      <td>0.196412</td>\n",
       "      <td>111025.191248</td>\n",
       "      <td>111025.191248</td>\n",
       "      <td>766.045667</td>\n",
       "    </tr>\n",
       "    <tr>\n",
       "      <th>2021-03-10</th>\n",
       "      <td>717.849976</td>\n",
       "      <td>655.059998</td>\n",
       "      <td>700.299988</td>\n",
       "      <td>668.059998</td>\n",
       "      <td>60605700.0</td>\n",
       "      <td>668.059998</td>\n",
       "      <td>-0.008195</td>\n",
       "      <td>86542.483302</td>\n",
       "      <td>86542.483302</td>\n",
       "      <td>758.877999</td>\n",
       "    </tr>\n",
       "    <tr>\n",
       "      <th>2021-03-11</th>\n",
       "      <td>702.500000</td>\n",
       "      <td>677.179993</td>\n",
       "      <td>699.400024</td>\n",
       "      <td>699.599976</td>\n",
       "      <td>36253900.0</td>\n",
       "      <td>699.599976</td>\n",
       "      <td>0.047211</td>\n",
       "      <td>51835.714519</td>\n",
       "      <td>51835.714519</td>\n",
       "      <td>753.392666</td>\n",
       "    </tr>\n",
       "    <tr>\n",
       "      <th>2021-03-12</th>\n",
       "      <td>694.880005</td>\n",
       "      <td>666.140015</td>\n",
       "      <td>670.000000</td>\n",
       "      <td>693.729980</td>\n",
       "      <td>33583800.0</td>\n",
       "      <td>693.729980</td>\n",
       "      <td>-0.008391</td>\n",
       "      <td>50125.074627</td>\n",
       "      <td>50125.074627</td>\n",
       "      <td>748.669332</td>\n",
       "    </tr>\n",
       "    <tr>\n",
       "      <th>2021-03-15</th>\n",
       "      <td>713.179993</td>\n",
       "      <td>684.039978</td>\n",
       "      <td>694.090027</td>\n",
       "      <td>707.940002</td>\n",
       "      <td>29335600.0</td>\n",
       "      <td>707.940002</td>\n",
       "      <td>0.020484</td>\n",
       "      <td>42264.834337</td>\n",
       "      <td>42264.834337</td>\n",
       "      <td>745.816331</td>\n",
       "    </tr>\n",
       "  </tbody>\n",
       "</table>\n",
       "</div>"
      ],
      "text/plain": [
       "                  High         Low        Open       Close      Volume  \\\n",
       "Date                                                                     \n",
       "2021-03-09  678.090027  595.210022  608.179993  673.580017  67523300.0   \n",
       "2021-03-10  717.849976  655.059998  700.299988  668.059998  60605700.0   \n",
       "2021-03-11  702.500000  677.179993  699.400024  699.599976  36253900.0   \n",
       "2021-03-12  694.880005  666.140015  670.000000  693.729980  33583800.0   \n",
       "2021-03-15  713.179993  684.039978  694.090027  707.940002  29335600.0   \n",
       "\n",
       "             Adj Close   Returns   Total Traded  Shares Traded       MA 50  \n",
       "Date                                                                        \n",
       "2021-03-09  673.580017  0.196412  111025.191248  111025.191248  766.045667  \n",
       "2021-03-10  668.059998 -0.008195   86542.483302   86542.483302  758.877999  \n",
       "2021-03-11  699.599976  0.047211   51835.714519   51835.714519  753.392666  \n",
       "2021-03-12  693.729980 -0.008391   50125.074627   50125.074627  748.669332  \n",
       "2021-03-15  707.940002  0.020484   42264.834337   42264.834337  745.816331  "
      ]
     },
     "execution_count": 75,
     "metadata": {},
     "output_type": "execute_result"
    }
   ],
   "source": [
    "tesla.tail()"
   ]
  },
  {
   "cell_type": "code",
   "execution_count": 76,
   "metadata": {
    "collapsed": true,
    "jupyter": {
     "outputs_hidden": true,
     "source_hidden": true
    }
   },
   "outputs": [
    {
     "data": {
      "image/png": "[encoded data removed]",
      "text/plain": [
       "<Figure size 1080x504 with 1 Axes>"
      ]
     },
     "metadata": {
      "needs_background": "light"
     },
     "output_type": "display_data"
    }
   ],
   "source": [
    "tesla[\"Adj Close\"].plot(color = \"red\", figsize = (15,7))\n",
    "tesla[\"MA 50\"].plot()\n",
    "plt.legend()\n",
    "plt.show()"
   ]
  },
  {
   "cell_type": "markdown",
   "metadata": {},
   "source": [
    "# Passive investing : is this a good idea?\n",
    "\n",
    "Now we get to the good stuff.\n",
    "\n",
    "Let us assume we are passive investors, we take Buffet's adivce and invest in the SnP. We know how to get access to the data, and we also know how to work with DataFrames. We can use these to compute the formulas we saw at the beginning of class including Expected Return, Portfolio Risk and the Sharpe Ratio of the Portfolio.\n",
    "\n",
    "Goals: \n",
    "\n",
    "1. Find the SnP Data\n",
    "2. Create our wealth index\n",
    "3. Visualize our ROI"
   ]
  },
  {
   "cell_type": "code",
   "execution_count": 55,
   "metadata": {},
   "outputs": [],
   "source": [
    "# First we can make sure we've got everything imported\n",
    "import pandas_datareader.data as web\n",
    "import pandas as pd\n",
    "import datetime as dt\n",
    "import matplotlib.pyplot as plt\n",
    "%matplotlib inline"
   ]
  },
  {
   "cell_type": "code",
   "execution_count": 74,
   "metadata": {},
   "outputs": [],
   "source": [
    "# Let's pick a time frame to evaluate our stocks on\n",
    "start = dt.datetime(1960,1,1)\n",
    "end = dt.datetime(2021,1,30)"
   ]
  },
  {
   "cell_type": "code",
   "execution_count": 75,
   "metadata": {},
   "outputs": [],
   "source": [
    "snp = web.DataReader(\"^GSPC\", \"yahoo\", start, end)"
   ]
  },
  {
   "cell_type": "code",
   "execution_count": 82,
   "metadata": {},
   "outputs": [
    {
     "data": {
      "text/html": [
       "<div>\n",
       "<style scoped>\n",
       "    .dataframe tbody tr th:only-of-type {\n",
       "        vertical-align: middle;\n",
       "    }\n",
       "\n",
       "    .dataframe tbody tr th {\n",
       "        vertical-align: top;\n",
       "    }\n",
       "\n",
       "    .dataframe thead th {\n",
       "        text-align: right;\n",
       "    }\n",
       "</style>\n",
       "<table border=\"1\" class=\"dataframe\">\n",
       "  <thead>\n",
       "    <tr style=\"text-align: right;\">\n",
       "      <th></th>\n",
       "      <th>High</th>\n",
       "      <th>Low</th>\n",
       "      <th>Open</th>\n",
       "      <th>Close</th>\n",
       "      <th>Volume</th>\n",
       "      <th>Adj Close</th>\n",
       "      <th>Returns</th>\n",
       "    </tr>\n",
       "    <tr>\n",
       "      <th>Date</th>\n",
       "      <th></th>\n",
       "      <th></th>\n",
       "      <th></th>\n",
       "      <th></th>\n",
       "      <th></th>\n",
       "      <th></th>\n",
       "      <th></th>\n",
       "    </tr>\n",
       "  </thead>\n",
       "  <tbody>\n",
       "    <tr>\n",
       "      <th>1960-01-04</th>\n",
       "      <td>59.910000</td>\n",
       "      <td>59.910000</td>\n",
       "      <td>59.910000</td>\n",
       "      <td>59.910000</td>\n",
       "      <td>3990000</td>\n",
       "      <td>59.910000</td>\n",
       "      <td>NaN</td>\n",
       "    </tr>\n",
       "    <tr>\n",
       "      <th>1960-01-05</th>\n",
       "      <td>60.389999</td>\n",
       "      <td>60.389999</td>\n",
       "      <td>60.389999</td>\n",
       "      <td>60.389999</td>\n",
       "      <td>3710000</td>\n",
       "      <td>60.389999</td>\n",
       "      <td>0.008012</td>\n",
       "    </tr>\n",
       "    <tr>\n",
       "      <th>1960-01-06</th>\n",
       "      <td>60.130001</td>\n",
       "      <td>60.130001</td>\n",
       "      <td>60.130001</td>\n",
       "      <td>60.130001</td>\n",
       "      <td>3730000</td>\n",
       "      <td>60.130001</td>\n",
       "      <td>-0.004305</td>\n",
       "    </tr>\n",
       "    <tr>\n",
       "      <th>1960-01-07</th>\n",
       "      <td>59.689999</td>\n",
       "      <td>59.689999</td>\n",
       "      <td>59.689999</td>\n",
       "      <td>59.689999</td>\n",
       "      <td>3310000</td>\n",
       "      <td>59.689999</td>\n",
       "      <td>-0.007318</td>\n",
       "    </tr>\n",
       "    <tr>\n",
       "      <th>1960-01-08</th>\n",
       "      <td>59.500000</td>\n",
       "      <td>59.500000</td>\n",
       "      <td>59.500000</td>\n",
       "      <td>59.500000</td>\n",
       "      <td>3290000</td>\n",
       "      <td>59.500000</td>\n",
       "      <td>-0.003183</td>\n",
       "    </tr>\n",
       "  </tbody>\n",
       "</table>\n",
       "</div>"
      ],
      "text/plain": [
       "                 High        Low       Open      Close   Volume  Adj Close  \\\n",
       "Date                                                                         \n",
       "1960-01-04  59.910000  59.910000  59.910000  59.910000  3990000  59.910000   \n",
       "1960-01-05  60.389999  60.389999  60.389999  60.389999  3710000  60.389999   \n",
       "1960-01-06  60.130001  60.130001  60.130001  60.130001  3730000  60.130001   \n",
       "1960-01-07  59.689999  59.689999  59.689999  59.689999  3310000  59.689999   \n",
       "1960-01-08  59.500000  59.500000  59.500000  59.500000  3290000  59.500000   \n",
       "\n",
       "             Returns  \n",
       "Date                  \n",
       "1960-01-04       NaN  \n",
       "1960-01-05  0.008012  \n",
       "1960-01-06 -0.004305  \n",
       "1960-01-07 -0.007318  \n",
       "1960-01-08 -0.003183  "
      ]
     },
     "execution_count": 82,
     "metadata": {},
     "output_type": "execute_result"
    }
   ],
   "source": [
    "snp.head()"
   ]
  },
  {
   "cell_type": "code",
   "execution_count": 83,
   "metadata": {},
   "outputs": [],
   "source": [
    "# Lets build a data Frame with the Adj Close of each stock \n",
    "snp[\"Returns\"] = snp['Adj Close'].pct_change()"
   ]
  },
  {
   "cell_type": "code",
   "execution_count": 85,
   "metadata": {},
   "outputs": [
    {
     "data": {
      "text/html": [
       "<div>\n",
       "<style scoped>\n",
       "    .dataframe tbody tr th:only-of-type {\n",
       "        vertical-align: middle;\n",
       "    }\n",
       "\n",
       "    .dataframe tbody tr th {\n",
       "        vertical-align: top;\n",
       "    }\n",
       "\n",
       "    .dataframe thead th {\n",
       "        text-align: right;\n",
       "    }\n",
       "</style>\n",
       "<table border=\"1\" class=\"dataframe\">\n",
       "  <thead>\n",
       "    <tr style=\"text-align: right;\">\n",
       "      <th></th>\n",
       "      <th>High</th>\n",
       "      <th>Low</th>\n",
       "      <th>Open</th>\n",
       "      <th>Close</th>\n",
       "      <th>Volume</th>\n",
       "      <th>Adj Close</th>\n",
       "      <th>Returns</th>\n",
       "    </tr>\n",
       "    <tr>\n",
       "      <th>Date</th>\n",
       "      <th></th>\n",
       "      <th></th>\n",
       "      <th></th>\n",
       "      <th></th>\n",
       "      <th></th>\n",
       "      <th></th>\n",
       "      <th></th>\n",
       "    </tr>\n",
       "  </thead>\n",
       "  <tbody>\n",
       "    <tr>\n",
       "      <th>1960-01-04</th>\n",
       "      <td>59.910000</td>\n",
       "      <td>59.910000</td>\n",
       "      <td>59.910000</td>\n",
       "      <td>59.910000</td>\n",
       "      <td>3990000</td>\n",
       "      <td>59.910000</td>\n",
       "      <td>NaN</td>\n",
       "    </tr>\n",
       "    <tr>\n",
       "      <th>1960-01-05</th>\n",
       "      <td>60.389999</td>\n",
       "      <td>60.389999</td>\n",
       "      <td>60.389999</td>\n",
       "      <td>60.389999</td>\n",
       "      <td>3710000</td>\n",
       "      <td>60.389999</td>\n",
       "      <td>0.008012</td>\n",
       "    </tr>\n",
       "    <tr>\n",
       "      <th>1960-01-06</th>\n",
       "      <td>60.130001</td>\n",
       "      <td>60.130001</td>\n",
       "      <td>60.130001</td>\n",
       "      <td>60.130001</td>\n",
       "      <td>3730000</td>\n",
       "      <td>60.130001</td>\n",
       "      <td>-0.004305</td>\n",
       "    </tr>\n",
       "    <tr>\n",
       "      <th>1960-01-07</th>\n",
       "      <td>59.689999</td>\n",
       "      <td>59.689999</td>\n",
       "      <td>59.689999</td>\n",
       "      <td>59.689999</td>\n",
       "      <td>3310000</td>\n",
       "      <td>59.689999</td>\n",
       "      <td>-0.007318</td>\n",
       "    </tr>\n",
       "    <tr>\n",
       "      <th>1960-01-08</th>\n",
       "      <td>59.500000</td>\n",
       "      <td>59.500000</td>\n",
       "      <td>59.500000</td>\n",
       "      <td>59.500000</td>\n",
       "      <td>3290000</td>\n",
       "      <td>59.500000</td>\n",
       "      <td>-0.003183</td>\n",
       "    </tr>\n",
       "  </tbody>\n",
       "</table>\n",
       "</div>"
      ],
      "text/plain": [
       "                 High        Low       Open      Close   Volume  Adj Close  \\\n",
       "Date                                                                         \n",
       "1960-01-04  59.910000  59.910000  59.910000  59.910000  3990000  59.910000   \n",
       "1960-01-05  60.389999  60.389999  60.389999  60.389999  3710000  60.389999   \n",
       "1960-01-06  60.130001  60.130001  60.130001  60.130001  3730000  60.130001   \n",
       "1960-01-07  59.689999  59.689999  59.689999  59.689999  3310000  59.689999   \n",
       "1960-01-08  59.500000  59.500000  59.500000  59.500000  3290000  59.500000   \n",
       "\n",
       "             Returns  \n",
       "Date                  \n",
       "1960-01-04       NaN  \n",
       "1960-01-05  0.008012  \n",
       "1960-01-06 -0.004305  \n",
       "1960-01-07 -0.007318  \n",
       "1960-01-08 -0.003183  "
      ]
     },
     "execution_count": 85,
     "metadata": {},
     "output_type": "execute_result"
    }
   ],
   "source": [
    "snp.head()"
   ]
  },
  {
   "cell_type": "code",
   "execution_count": 94,
   "metadata": {},
   "outputs": [
    {
     "data": {
      "image/png": "[encoded data removed]",
      "text/plain": [
       "<Figure size 1080x504 with 1 Axes>"
      ]
     },
     "metadata": {
      "needs_background": "light"
     },
     "output_type": "display_data"
    }
   ],
   "source": [
    "snp[\"Returns\"].plot(title = \"SNP Returns overtime\", \n",
    "                    color = 'darkred', \n",
    "                    figsize = (15,7), \n",
    "                    alpha = 1,\n",
    "                    linewidth = 0.3)\n",
    "plt.show()"
   ]
  },
  {
   "cell_type": "code",
   "execution_count": 95,
   "metadata": {},
   "outputs": [],
   "source": [
    "#We can create a return column using the shift method\n",
    "\n",
    "snp['Returns'] = (snp[\"Adj Close\"]/snp[\"Adj Close\"].shift(1)) -1"
   ]
  },
  {
   "cell_type": "code",
   "execution_count": 96,
   "metadata": {},
   "outputs": [
    {
     "data": {
      "text/html": [
       "<div>\n",
       "<style scoped>\n",
       "    .dataframe tbody tr th:only-of-type {\n",
       "        vertical-align: middle;\n",
       "    }\n",
       "\n",
       "    .dataframe tbody tr th {\n",
       "        vertical-align: top;\n",
       "    }\n",
       "\n",
       "    .dataframe thead th {\n",
       "        text-align: right;\n",
       "    }\n",
       "</style>\n",
       "<table border=\"1\" class=\"dataframe\">\n",
       "  <thead>\n",
       "    <tr style=\"text-align: right;\">\n",
       "      <th></th>\n",
       "      <th>High</th>\n",
       "      <th>Low</th>\n",
       "      <th>Open</th>\n",
       "      <th>Close</th>\n",
       "      <th>Volume</th>\n",
       "      <th>Adj Close</th>\n",
       "      <th>Returns</th>\n",
       "    </tr>\n",
       "    <tr>\n",
       "      <th>Date</th>\n",
       "      <th></th>\n",
       "      <th></th>\n",
       "      <th></th>\n",
       "      <th></th>\n",
       "      <th></th>\n",
       "      <th></th>\n",
       "      <th></th>\n",
       "    </tr>\n",
       "  </thead>\n",
       "  <tbody>\n",
       "    <tr>\n",
       "      <th>1960-01-04</th>\n",
       "      <td>59.910000</td>\n",
       "      <td>59.910000</td>\n",
       "      <td>59.910000</td>\n",
       "      <td>59.910000</td>\n",
       "      <td>3990000</td>\n",
       "      <td>59.910000</td>\n",
       "      <td>NaN</td>\n",
       "    </tr>\n",
       "    <tr>\n",
       "      <th>1960-01-05</th>\n",
       "      <td>60.389999</td>\n",
       "      <td>60.389999</td>\n",
       "      <td>60.389999</td>\n",
       "      <td>60.389999</td>\n",
       "      <td>3710000</td>\n",
       "      <td>60.389999</td>\n",
       "      <td>0.008012</td>\n",
       "    </tr>\n",
       "    <tr>\n",
       "      <th>1960-01-06</th>\n",
       "      <td>60.130001</td>\n",
       "      <td>60.130001</td>\n",
       "      <td>60.130001</td>\n",
       "      <td>60.130001</td>\n",
       "      <td>3730000</td>\n",
       "      <td>60.130001</td>\n",
       "      <td>-0.004305</td>\n",
       "    </tr>\n",
       "    <tr>\n",
       "      <th>1960-01-07</th>\n",
       "      <td>59.689999</td>\n",
       "      <td>59.689999</td>\n",
       "      <td>59.689999</td>\n",
       "      <td>59.689999</td>\n",
       "      <td>3310000</td>\n",
       "      <td>59.689999</td>\n",
       "      <td>-0.007318</td>\n",
       "    </tr>\n",
       "    <tr>\n",
       "      <th>1960-01-08</th>\n",
       "      <td>59.500000</td>\n",
       "      <td>59.500000</td>\n",
       "      <td>59.500000</td>\n",
       "      <td>59.500000</td>\n",
       "      <td>3290000</td>\n",
       "      <td>59.500000</td>\n",
       "      <td>-0.003183</td>\n",
       "    </tr>\n",
       "  </tbody>\n",
       "</table>\n",
       "</div>"
      ],
      "text/plain": [
       "                 High        Low       Open      Close   Volume  Adj Close  \\\n",
       "Date                                                                         \n",
       "1960-01-04  59.910000  59.910000  59.910000  59.910000  3990000  59.910000   \n",
       "1960-01-05  60.389999  60.389999  60.389999  60.389999  3710000  60.389999   \n",
       "1960-01-06  60.130001  60.130001  60.130001  60.130001  3730000  60.130001   \n",
       "1960-01-07  59.689999  59.689999  59.689999  59.689999  3310000  59.689999   \n",
       "1960-01-08  59.500000  59.500000  59.500000  59.500000  3290000  59.500000   \n",
       "\n",
       "             Returns  \n",
       "Date                  \n",
       "1960-01-04       NaN  \n",
       "1960-01-05  0.008012  \n",
       "1960-01-06 -0.004305  \n",
       "1960-01-07 -0.007318  \n",
       "1960-01-08 -0.003183  "
      ]
     },
     "execution_count": 96,
     "metadata": {},
     "output_type": "execute_result"
    }
   ],
   "source": [
    "snp.head()"
   ]
  },
  {
   "cell_type": "code",
   "execution_count": 100,
   "metadata": {
    "scrolled": true
   },
   "outputs": [
    {
     "data": {
      "image/png": "[encoded data removed]",
      "text/plain": [
       "<Figure size 1080x504 with 1 Axes>"
      ]
     },
     "metadata": {
      "needs_background": "light"
     },
     "output_type": "display_data"
    }
   ],
   "source": [
    "snp['Returns'].plot(kind = 'kde', label = 'SnP 500', figsize = (15,7), color = \"red\")\n",
    "plt.show()"
   ]
  },
  {
   "cell_type": "code",
   "execution_count": 117,
   "metadata": {},
   "outputs": [
    {
     "data": {
      "image/png": "[encoded data removed]",
      "text/plain": [
       "<Figure size 720x288 with 1 Axes>"
      ]
     },
     "metadata": {
      "needs_background": "light"
     },
     "output_type": "display_data"
    }
   ],
   "source": [
    "snp['Returns'].hist(bins = 100, label = 'SnP 500', figsize = (10,4), color = \"red\")\n",
    "plt.show()"
   ]
  },
  {
   "cell_type": "code",
   "execution_count": 109,
   "metadata": {},
   "outputs": [],
   "source": [
    "snp[\"Cumulative Returns\"] = (1 + snp[\"Returns\"]).cumprod()"
   ]
  },
  {
   "cell_type": "code",
   "execution_count": 118,
   "metadata": {},
   "outputs": [
    {
     "data": {
      "image/png": "[encoded data removed]",
      "text/plain": [
       "<Figure size 1080x504 with 1 Axes>"
      ]
     },
     "metadata": {
      "needs_background": "light"
     },
     "output_type": "display_data"
    }
   ],
   "source": [
    "snp[\"Cumulative Returns\"].plot(title = \"SNP 500 Wealth Index\", label = \"SNP 500\", figsize = (15,7), alpha = 5, color = \"darkred\")\n",
    "plt.legend()\n",
    "plt.show()"
   ]
  },
  {
   "cell_type": "markdown",
   "metadata": {},
   "source": [
    "# Correlations and Covariance Matrix\n",
    "\n",
    "We can view stock prices as random variables and evaluate visually the correlations between securities. As we can see here, there seems to be a postitive correlation between both securities, but we cannot assume anythign without conducting the proper tests"
   ]
  },
  {
   "cell_type": "code",
   "execution_count": 92,
   "metadata": {},
   "outputs": [],
   "source": [
    "from pandas.plotting import scatter_matrix"
   ]
  },
  {
   "cell_type": "code",
   "execution_count": 85,
   "metadata": {},
   "outputs": [],
   "source": [
    "companies = pd.concat([tesla['Adj Close'],google['Adj Close']], axis = 1)\n",
    "companies.columns = ['Tesla Adj Close', 'Google Adj Close']"
   ]
  },
  {
   "cell_type": "code",
   "execution_count": 91,
   "metadata": {},
   "outputs": [
    {
     "data": {
      "image/png": "[encoded data removed]",
      "text/plain": [
       "<Figure size 576x576 with 4 Axes>"
      ]
     },
     "metadata": {
      "needs_background": "light"
     },
     "output_type": "display_data"
    }
   ],
   "source": [
    "scatter_matrix(companies, figsize = (8,8), hist_kwds = {'bins':50})\n",
    "plt.show()"
   ]
  },
  {
   "cell_type": "markdown",
   "metadata": {},
   "source": [
    "## Daily Percentage Change"
   ]
  },
  {
   "cell_type": "markdown",
   "metadata": {},
   "source": [
    "## Cumulative Return and the Wealth Index\n",
    "\n",
    "We know the cumulative to be equal to the sum of daily returns + 1. We can build a wealth index to see how the value of our portfolio would have evolved. \n",
    "\n",
    "A wealth index allows us to visualize how our wealth would have grown overtime if we had provided an initial investment. Wealth indexes are typically used to present new indexes and instruments to potential investors and funds, so as to convince the investor of the returns the financial product is able to generate.\n",
    "\n",
    "How do we create a wealth index?"
   ]
  },
  {
   "cell_type": "code",
   "execution_count": 116,
   "metadata": {},
   "outputs": [],
   "source": [
    "tesla['Returns'] = tesla[\"Adj Close\"]/tesla[\"Adj Close\"].shift(1) -1 \n",
    "google['Returns'] = google[\"Adj Close\"]/google[\"Adj Close\"].shift(1) -1 "
   ]
  },
  {
   "cell_type": "code",
   "execution_count": 125,
   "metadata": {},
   "outputs": [],
   "source": [
    "# To create a wealth index, we can simply create a new column \n",
    "snp[\"Cumulative Returns\"] = (1 + snp[\"Returns\"]).cumprod()"
   ]
  },
  {
   "cell_type": "code",
   "execution_count": 103,
   "metadata": {
    "scrolled": true
   },
   "outputs": [
    {
     "data": {
      "text/html": [
       "<div>\n",
       "<style scoped>\n",
       "    .dataframe tbody tr th:only-of-type {\n",
       "        vertical-align: middle;\n",
       "    }\n",
       "\n",
       "    .dataframe tbody tr th {\n",
       "        vertical-align: top;\n",
       "    }\n",
       "\n",
       "    .dataframe thead th {\n",
       "        text-align: right;\n",
       "    }\n",
       "</style>\n",
       "<table border=\"1\" class=\"dataframe\">\n",
       "  <thead>\n",
       "    <tr style=\"text-align: right;\">\n",
       "      <th></th>\n",
       "      <th>High</th>\n",
       "      <th>Low</th>\n",
       "      <th>Open</th>\n",
       "      <th>Close</th>\n",
       "      <th>Volume</th>\n",
       "      <th>Adj Close</th>\n",
       "      <th>Total Traded</th>\n",
       "      <th>MA 50</th>\n",
       "      <th>returns</th>\n",
       "      <th>Returns</th>\n",
       "    </tr>\n",
       "    <tr>\n",
       "      <th>Date</th>\n",
       "      <th></th>\n",
       "      <th></th>\n",
       "      <th></th>\n",
       "      <th></th>\n",
       "      <th></th>\n",
       "      <th></th>\n",
       "      <th></th>\n",
       "      <th></th>\n",
       "      <th></th>\n",
       "      <th></th>\n",
       "    </tr>\n",
       "  </thead>\n",
       "  <tbody>\n",
       "    <tr>\n",
       "      <th>2020-01-02</th>\n",
       "      <td>86.139999</td>\n",
       "      <td>84.342003</td>\n",
       "      <td>84.900002</td>\n",
       "      <td>86.052002</td>\n",
       "      <td>47660500.0</td>\n",
       "      <td>86.052002</td>\n",
       "      <td>4.046377e+09</td>\n",
       "      <td>NaN</td>\n",
       "      <td>NaN</td>\n",
       "      <td>NaN</td>\n",
       "    </tr>\n",
       "    <tr>\n",
       "      <th>2020-01-03</th>\n",
       "      <td>90.800003</td>\n",
       "      <td>87.384003</td>\n",
       "      <td>88.099998</td>\n",
       "      <td>88.601997</td>\n",
       "      <td>88892500.0</td>\n",
       "      <td>88.601997</td>\n",
       "      <td>7.831429e+09</td>\n",
       "      <td>NaN</td>\n",
       "      <td>0.029633</td>\n",
       "      <td>0.029633</td>\n",
       "    </tr>\n",
       "    <tr>\n",
       "      <th>2020-01-06</th>\n",
       "      <td>90.311996</td>\n",
       "      <td>88.000000</td>\n",
       "      <td>88.094002</td>\n",
       "      <td>90.307999</td>\n",
       "      <td>50665000.0</td>\n",
       "      <td>90.307999</td>\n",
       "      <td>4.463283e+09</td>\n",
       "      <td>NaN</td>\n",
       "      <td>0.019255</td>\n",
       "      <td>0.019255</td>\n",
       "    </tr>\n",
       "    <tr>\n",
       "      <th>2020-01-07</th>\n",
       "      <td>94.325996</td>\n",
       "      <td>90.671997</td>\n",
       "      <td>92.279999</td>\n",
       "      <td>93.811996</td>\n",
       "      <td>89410500.0</td>\n",
       "      <td>93.811996</td>\n",
       "      <td>8.250801e+09</td>\n",
       "      <td>NaN</td>\n",
       "      <td>0.038801</td>\n",
       "      <td>0.038801</td>\n",
       "    </tr>\n",
       "    <tr>\n",
       "      <th>2020-01-08</th>\n",
       "      <td>99.697998</td>\n",
       "      <td>93.646004</td>\n",
       "      <td>94.739998</td>\n",
       "      <td>98.428001</td>\n",
       "      <td>155721500.0</td>\n",
       "      <td>98.428001</td>\n",
       "      <td>1.475305e+10</td>\n",
       "      <td>NaN</td>\n",
       "      <td>0.049205</td>\n",
       "      <td>0.049205</td>\n",
       "    </tr>\n",
       "  </tbody>\n",
       "</table>\n",
       "</div>"
      ],
      "text/plain": [
       "                 High        Low       Open      Close       Volume  \\\n",
       "Date                                                                  \n",
       "2020-01-02  86.139999  84.342003  84.900002  86.052002   47660500.0   \n",
       "2020-01-03  90.800003  87.384003  88.099998  88.601997   88892500.0   \n",
       "2020-01-06  90.311996  88.000000  88.094002  90.307999   50665000.0   \n",
       "2020-01-07  94.325996  90.671997  92.279999  93.811996   89410500.0   \n",
       "2020-01-08  99.697998  93.646004  94.739998  98.428001  155721500.0   \n",
       "\n",
       "            Adj Close  Total Traded  MA 50   returns   Returns  \n",
       "Date                                                            \n",
       "2020-01-02  86.052002  4.046377e+09    NaN       NaN       NaN  \n",
       "2020-01-03  88.601997  7.831429e+09    NaN  0.029633  0.029633  \n",
       "2020-01-06  90.307999  4.463283e+09    NaN  0.019255  0.019255  \n",
       "2020-01-07  93.811996  8.250801e+09    NaN  0.038801  0.038801  \n",
       "2020-01-08  98.428001  1.475305e+10    NaN  0.049205  0.049205  "
      ]
     },
     "execution_count": 103,
     "metadata": {},
     "output_type": "execute_result"
    }
   ],
   "source": [
    "tesla.head()"
   ]
  },
  {
   "cell_type": "code",
   "execution_count": 52,
   "metadata": {},
   "outputs": [
    {
     "data": {
      "text/html": [
       "<div>\n",
       "<style scoped>\n",
       "    .dataframe tbody tr th:only-of-type {\n",
       "        vertical-align: middle;\n",
       "    }\n",
       "\n",
       "    .dataframe tbody tr th {\n",
       "        vertical-align: top;\n",
       "    }\n",
       "\n",
       "    .dataframe thead th {\n",
       "        text-align: right;\n",
       "    }\n",
       "</style>\n",
       "<table border=\"1\" class=\"dataframe\">\n",
       "  <thead>\n",
       "    <tr style=\"text-align: right;\">\n",
       "      <th></th>\n",
       "      <th>High</th>\n",
       "      <th>Low</th>\n",
       "      <th>Open</th>\n",
       "      <th>Close</th>\n",
       "      <th>Volume</th>\n",
       "      <th>Adj Close</th>\n",
       "      <th>Returns</th>\n",
       "      <th>Total Traded</th>\n",
       "      <th>MA 50</th>\n",
       "    </tr>\n",
       "    <tr>\n",
       "      <th>Date</th>\n",
       "      <th></th>\n",
       "      <th></th>\n",
       "      <th></th>\n",
       "      <th></th>\n",
       "      <th></th>\n",
       "      <th></th>\n",
       "      <th></th>\n",
       "      <th></th>\n",
       "      <th></th>\n",
       "    </tr>\n",
       "  </thead>\n",
       "  <tbody>\n",
       "    <tr>\n",
       "      <th>2017-01-03</th>\n",
       "      <td>44.066002</td>\n",
       "      <td>42.192001</td>\n",
       "      <td>42.972000</td>\n",
       "      <td>43.397999</td>\n",
       "      <td>29616500.0</td>\n",
       "      <td>43.397999</td>\n",
       "      <td>NaN</td>\n",
       "      <td>1.272680e+09</td>\n",
       "      <td>NaN</td>\n",
       "    </tr>\n",
       "    <tr>\n",
       "      <th>2017-01-04</th>\n",
       "      <td>45.599998</td>\n",
       "      <td>42.862000</td>\n",
       "      <td>42.950001</td>\n",
       "      <td>45.397999</td>\n",
       "      <td>56067500.0</td>\n",
       "      <td>45.397999</td>\n",
       "      <td>0.046085</td>\n",
       "      <td>2.408099e+09</td>\n",
       "      <td>NaN</td>\n",
       "    </tr>\n",
       "    <tr>\n",
       "      <th>2017-01-05</th>\n",
       "      <td>45.495998</td>\n",
       "      <td>44.389999</td>\n",
       "      <td>45.284000</td>\n",
       "      <td>45.349998</td>\n",
       "      <td>29558500.0</td>\n",
       "      <td>45.349998</td>\n",
       "      <td>-0.001057</td>\n",
       "      <td>1.338527e+09</td>\n",
       "      <td>NaN</td>\n",
       "    </tr>\n",
       "    <tr>\n",
       "      <th>2017-01-06</th>\n",
       "      <td>46.062000</td>\n",
       "      <td>45.090000</td>\n",
       "      <td>45.386002</td>\n",
       "      <td>45.801998</td>\n",
       "      <td>27639500.0</td>\n",
       "      <td>45.801998</td>\n",
       "      <td>0.009967</td>\n",
       "      <td>1.254446e+09</td>\n",
       "      <td>NaN</td>\n",
       "    </tr>\n",
       "    <tr>\n",
       "      <th>2017-01-09</th>\n",
       "      <td>46.383999</td>\n",
       "      <td>45.599998</td>\n",
       "      <td>45.793999</td>\n",
       "      <td>46.256001</td>\n",
       "      <td>19897500.0</td>\n",
       "      <td>46.256001</td>\n",
       "      <td>0.009912</td>\n",
       "      <td>9.111861e+08</td>\n",
       "      <td>NaN</td>\n",
       "    </tr>\n",
       "  </tbody>\n",
       "</table>\n",
       "</div>"
      ],
      "text/plain": [
       "                 High        Low       Open      Close      Volume  Adj Close  \\\n",
       "Date                                                                            \n",
       "2017-01-03  44.066002  42.192001  42.972000  43.397999  29616500.0  43.397999   \n",
       "2017-01-04  45.599998  42.862000  42.950001  45.397999  56067500.0  45.397999   \n",
       "2017-01-05  45.495998  44.389999  45.284000  45.349998  29558500.0  45.349998   \n",
       "2017-01-06  46.062000  45.090000  45.386002  45.801998  27639500.0  45.801998   \n",
       "2017-01-09  46.383999  45.599998  45.793999  46.256001  19897500.0  46.256001   \n",
       "\n",
       "             Returns  Total Traded  MA 50  \n",
       "Date                                       \n",
       "2017-01-03       NaN  1.272680e+09    NaN  \n",
       "2017-01-04  0.046085  2.408099e+09    NaN  \n",
       "2017-01-05 -0.001057  1.338527e+09    NaN  \n",
       "2017-01-06  0.009967  1.254446e+09    NaN  \n",
       "2017-01-09  0.009912  9.111861e+08    NaN  "
      ]
     },
     "execution_count": 52,
     "metadata": {},
     "output_type": "execute_result"
    }
   ],
   "source": [
    "tesla.head()"
   ]
  },
  {
   "cell_type": "code",
   "execution_count": 123,
   "metadata": {},
   "outputs": [
    {
     "data": {
      "image/png": "[encoded data removed]",
      "text/plain": [
       "<Figure size 432x288 with 1 Axes>"
      ]
     },
     "metadata": {
      "needs_background": "light"
     },
     "output_type": "display_data"
    }
   ],
   "source": [
    "tesla['Returns'].hist(bins=50, color = 'red', alpha = 0.5)\n",
    "google['Returns'].hist(bins=50, color = 'blue', alpha = 1)\n",
    "plt.ylabel = \"Frequency\"\n",
    "plt.xlabel = \"Returns\"\n",
    "plt.show()"
   ]
  },
  {
   "cell_type": "code",
   "execution_count": 126,
   "metadata": {},
   "outputs": [
    {
     "data": {
      "image/png": "[encoded data removed]",
      "text/plain": [
       "<Figure size 1080x504 with 1 Axes>"
      ]
     },
     "metadata": {
      "needs_background": "light"
     },
     "output_type": "display_data"
    }
   ],
   "source": [
    "snp[\"Cumulative Returns\"].plot(label = \"Tesla\", figsize = (15,7))\n",
    "plt.legend()\n",
    "plt.show()"
   ]
  },
  {
   "cell_type": "code",
   "execution_count": 121,
   "metadata": {},
   "outputs": [
    {
     "data": {
      "image/png": "[encoded data removed]",
      "text/plain": [
       "<Figure size 432x288 with 1 Axes>"
      ]
     },
     "metadata": {
      "needs_background": "light"
     },
     "output_type": "display_data"
    }
   ],
   "source": [
    "tesla['Returns'].plot(kind = 'kde', label = 'Tesla')\n",
    "google['Returns'].plot(kind = 'kde', label = 'Google')\n",
    "plt.show()"
   ]
  },
  {
   "cell_type": "markdown",
   "metadata": {},
   "source": [
    "# Creating a correlation Matrix"
   ]
  },
  {
   "cell_type": "code",
   "execution_count": 129,
   "metadata": {},
   "outputs": [],
   "source": [
    "import seaborn"
   ]
  },
  {
   "cell_type": "code",
   "execution_count": 130,
   "metadata": {},
   "outputs": [],
   "source": [
    "symbols_list = ['AAPL', 'F', 'TWTR', 'FB', 'AAL', 'AMZN', 'GOOGL', 'GE', 'TSLA', 'IBM', 'PYPL']\n",
    "#array to store prices\n",
    "symbols=[]"
   ]
  },
  {
   "cell_type": "code",
   "execution_count": 138,
   "metadata": {},
   "outputs": [],
   "source": [
    "#array to store prices\n",
    "symbols=[]\n",
    "for ticker in symbols_list:     \n",
    "    r = web.DataReader(ticker, 'yahoo', start)\n",
    "    # add a symbol column\n",
    "    r['Symbol'] = ticker\n",
    "    symbols.append(r)\n",
    "\n",
    "# concatenate into df\n",
    "df = pd.concat(symbols)\n",
    "df = df.reset_index()\n",
    "df = df[['Date', 'Close', 'Symbol']]\n",
    "df.head()\n",
    "df_pivot=df.pivot('Date','Symbol','Close').reset_index()"
   ]
  },
  {
   "cell_type": "code",
   "execution_count": 137,
   "metadata": {},
   "outputs": [
    {
     "data": {
      "text/html": [
       "<div>\n",
       "<style scoped>\n",
       "    .dataframe tbody tr th:only-of-type {\n",
       "        vertical-align: middle;\n",
       "    }\n",
       "\n",
       "    .dataframe tbody tr th {\n",
       "        vertical-align: top;\n",
       "    }\n",
       "\n",
       "    .dataframe thead th {\n",
       "        text-align: right;\n",
       "    }\n",
       "</style>\n",
       "<table border=\"1\" class=\"dataframe\">\n",
       "  <thead>\n",
       "    <tr style=\"text-align: right;\">\n",
       "      <th>Symbol</th>\n",
       "      <th>Date</th>\n",
       "      <th>AAL</th>\n",
       "      <th>AAPL</th>\n",
       "      <th>AMZN</th>\n",
       "      <th>F</th>\n",
       "      <th>FB</th>\n",
       "      <th>GE</th>\n",
       "      <th>GOOGL</th>\n",
       "      <th>IBM</th>\n",
       "      <th>PYPL</th>\n",
       "      <th>TSLA</th>\n",
       "      <th>TWTR</th>\n",
       "    </tr>\n",
       "  </thead>\n",
       "  <tbody>\n",
       "    <tr>\n",
       "      <th>14899</th>\n",
       "      <td>2021-03-11</td>\n",
       "      <td>22.150000</td>\n",
       "      <td>121.959999</td>\n",
       "      <td>3113.590088</td>\n",
       "      <td>12.81</td>\n",
       "      <td>273.880005</td>\n",
       "      <td>12.27</td>\n",
       "      <td>2100.540039</td>\n",
       "      <td>127.139999</td>\n",
       "      <td>253.830002</td>\n",
       "      <td>699.599976</td>\n",
       "      <td>68.459999</td>\n",
       "    </tr>\n",
       "    <tr>\n",
       "      <th>14900</th>\n",
       "      <td>2021-03-12</td>\n",
       "      <td>23.370001</td>\n",
       "      <td>121.029999</td>\n",
       "      <td>3089.489990</td>\n",
       "      <td>13.37</td>\n",
       "      <td>268.399994</td>\n",
       "      <td>12.58</td>\n",
       "      <td>2050.000000</td>\n",
       "      <td>127.610001</td>\n",
       "      <td>250.350006</td>\n",
       "      <td>693.729980</td>\n",
       "      <td>68.099998</td>\n",
       "    </tr>\n",
       "    <tr>\n",
       "      <th>14901</th>\n",
       "      <td>2021-03-15</td>\n",
       "      <td>25.170000</td>\n",
       "      <td>123.989998</td>\n",
       "      <td>3081.679932</td>\n",
       "      <td>13.20</td>\n",
       "      <td>273.750000</td>\n",
       "      <td>13.35</td>\n",
       "      <td>2054.439941</td>\n",
       "      <td>128.580002</td>\n",
       "      <td>249.979996</td>\n",
       "      <td>707.940002</td>\n",
       "      <td>70.279999</td>\n",
       "    </tr>\n",
       "    <tr>\n",
       "      <th>14902</th>\n",
       "      <td>2021-03-16</td>\n",
       "      <td>24.469999</td>\n",
       "      <td>125.570000</td>\n",
       "      <td>3091.860107</td>\n",
       "      <td>12.49</td>\n",
       "      <td>279.279999</td>\n",
       "      <td>13.15</td>\n",
       "      <td>2083.889893</td>\n",
       "      <td>128.240005</td>\n",
       "      <td>249.309998</td>\n",
       "      <td>676.880005</td>\n",
       "      <td>69.250000</td>\n",
       "    </tr>\n",
       "    <tr>\n",
       "      <th>14903</th>\n",
       "      <td>2021-03-17</td>\n",
       "      <td>25.160000</td>\n",
       "      <td>124.760002</td>\n",
       "      <td>3135.729980</td>\n",
       "      <td>12.69</td>\n",
       "      <td>284.010010</td>\n",
       "      <td>13.61</td>\n",
       "      <td>2082.219971</td>\n",
       "      <td>129.029999</td>\n",
       "      <td>251.470001</td>\n",
       "      <td>701.809998</td>\n",
       "      <td>70.199997</td>\n",
       "    </tr>\n",
       "  </tbody>\n",
       "</table>\n",
       "</div>"
      ],
      "text/plain": [
       "Symbol       Date        AAL        AAPL         AMZN      F          FB  \\\n",
       "14899  2021-03-11  22.150000  121.959999  3113.590088  12.81  273.880005   \n",
       "14900  2021-03-12  23.370001  121.029999  3089.489990  13.37  268.399994   \n",
       "14901  2021-03-15  25.170000  123.989998  3081.679932  13.20  273.750000   \n",
       "14902  2021-03-16  24.469999  125.570000  3091.860107  12.49  279.279999   \n",
       "14903  2021-03-17  25.160000  124.760002  3135.729980  12.69  284.010010   \n",
       "\n",
       "Symbol     GE        GOOGL         IBM        PYPL        TSLA       TWTR  \n",
       "14899   12.27  2100.540039  127.139999  253.830002  699.599976  68.459999  \n",
       "14900   12.58  2050.000000  127.610001  250.350006  693.729980  68.099998  \n",
       "14901   13.35  2054.439941  128.580002  249.979996  707.940002  70.279999  \n",
       "14902   13.15  2083.889893  128.240005  249.309998  676.880005  69.250000  \n",
       "14903   13.61  2082.219971  129.029999  251.470001  701.809998  70.199997  "
      ]
     },
     "execution_count": 137,
     "metadata": {},
     "output_type": "execute_result"
    }
   ],
   "source": [
    "df_pivot.tail()"
   ]
  },
  {
   "cell_type": "code",
   "execution_count": 135,
   "metadata": {},
   "outputs": [
    {
     "data": {
      "text/html": [
       "<div>\n",
       "<style scoped>\n",
       "    .dataframe tbody tr th:only-of-type {\n",
       "        vertical-align: middle;\n",
       "    }\n",
       "\n",
       "    .dataframe tbody tr th {\n",
       "        vertical-align: top;\n",
       "    }\n",
       "\n",
       "    .dataframe thead th {\n",
       "        text-align: right;\n",
       "    }\n",
       "</style>\n",
       "<table border=\"1\" class=\"dataframe\">\n",
       "  <thead>\n",
       "    <tr style=\"text-align: right;\">\n",
       "      <th>Symbol</th>\n",
       "      <th>AAL</th>\n",
       "      <th>AAPL</th>\n",
       "      <th>AMZN</th>\n",
       "      <th>F</th>\n",
       "      <th>FB</th>\n",
       "      <th>GE</th>\n",
       "      <th>GOOGL</th>\n",
       "      <th>IBM</th>\n",
       "      <th>PYPL</th>\n",
       "      <th>TSLA</th>\n",
       "      <th>TWTR</th>\n",
       "    </tr>\n",
       "    <tr>\n",
       "      <th>Symbol</th>\n",
       "      <th></th>\n",
       "      <th></th>\n",
       "      <th></th>\n",
       "      <th></th>\n",
       "      <th></th>\n",
       "      <th></th>\n",
       "      <th></th>\n",
       "      <th></th>\n",
       "      <th></th>\n",
       "      <th></th>\n",
       "      <th></th>\n",
       "    </tr>\n",
       "  </thead>\n",
       "  <tbody>\n",
       "    <tr>\n",
       "      <th>AAL</th>\n",
       "      <td>1.000000</td>\n",
       "      <td>0.099891</td>\n",
       "      <td>0.123817</td>\n",
       "      <td>0.272186</td>\n",
       "      <td>0.036605</td>\n",
       "      <td>0.417170</td>\n",
       "      <td>0.278905</td>\n",
       "      <td>-0.035367</td>\n",
       "      <td>-0.747647</td>\n",
       "      <td>-0.098212</td>\n",
       "      <td>-0.360234</td>\n",
       "    </tr>\n",
       "    <tr>\n",
       "      <th>AAPL</th>\n",
       "      <td>0.099891</td>\n",
       "      <td>1.000000</td>\n",
       "      <td>0.967166</td>\n",
       "      <td>-0.005785</td>\n",
       "      <td>0.877202</td>\n",
       "      <td>-0.027537</td>\n",
       "      <td>0.945949</td>\n",
       "      <td>0.520946</td>\n",
       "      <td>0.969442</td>\n",
       "      <td>0.876010</td>\n",
       "      <td>0.340817</td>\n",
       "    </tr>\n",
       "    <tr>\n",
       "      <th>AMZN</th>\n",
       "      <td>0.123817</td>\n",
       "      <td>0.967166</td>\n",
       "      <td>1.000000</td>\n",
       "      <td>-0.292629</td>\n",
       "      <td>0.935542</td>\n",
       "      <td>-0.591809</td>\n",
       "      <td>0.960643</td>\n",
       "      <td>0.259185</td>\n",
       "      <td>0.962175</td>\n",
       "      <td>0.759475</td>\n",
       "      <td>0.236930</td>\n",
       "    </tr>\n",
       "    <tr>\n",
       "      <th>F</th>\n",
       "      <td>0.272186</td>\n",
       "      <td>-0.005785</td>\n",
       "      <td>-0.292629</td>\n",
       "      <td>1.000000</td>\n",
       "      <td>-0.666775</td>\n",
       "      <td>0.779332</td>\n",
       "      <td>0.003572</td>\n",
       "      <td>0.527632</td>\n",
       "      <td>-0.610011</td>\n",
       "      <td>-0.340188</td>\n",
       "      <td>0.150763</td>\n",
       "    </tr>\n",
       "    <tr>\n",
       "      <th>FB</th>\n",
       "      <td>0.036605</td>\n",
       "      <td>0.877202</td>\n",
       "      <td>0.935542</td>\n",
       "      <td>-0.666775</td>\n",
       "      <td>1.000000</td>\n",
       "      <td>-0.649568</td>\n",
       "      <td>0.971498</td>\n",
       "      <td>-0.832614</td>\n",
       "      <td>0.924859</td>\n",
       "      <td>0.658354</td>\n",
       "      <td>0.067366</td>\n",
       "    </tr>\n",
       "    <tr>\n",
       "      <th>GE</th>\n",
       "      <td>0.417170</td>\n",
       "      <td>-0.027537</td>\n",
       "      <td>-0.591809</td>\n",
       "      <td>0.779332</td>\n",
       "      <td>-0.649568</td>\n",
       "      <td>1.000000</td>\n",
       "      <td>-0.549074</td>\n",
       "      <td>0.694604</td>\n",
       "      <td>-0.735164</td>\n",
       "      <td>-0.376230</td>\n",
       "      <td>-0.338259</td>\n",
       "    </tr>\n",
       "    <tr>\n",
       "      <th>GOOGL</th>\n",
       "      <td>0.278905</td>\n",
       "      <td>0.945949</td>\n",
       "      <td>0.960643</td>\n",
       "      <td>0.003572</td>\n",
       "      <td>0.971498</td>\n",
       "      <td>-0.549074</td>\n",
       "      <td>1.000000</td>\n",
       "      <td>0.188660</td>\n",
       "      <td>0.959806</td>\n",
       "      <td>0.725371</td>\n",
       "      <td>0.186778</td>\n",
       "    </tr>\n",
       "    <tr>\n",
       "      <th>IBM</th>\n",
       "      <td>-0.035367</td>\n",
       "      <td>0.520946</td>\n",
       "      <td>0.259185</td>\n",
       "      <td>0.527632</td>\n",
       "      <td>-0.832614</td>\n",
       "      <td>0.694604</td>\n",
       "      <td>0.188660</td>\n",
       "      <td>1.000000</td>\n",
       "      <td>-0.633608</td>\n",
       "      <td>-0.459283</td>\n",
       "      <td>0.082940</td>\n",
       "    </tr>\n",
       "    <tr>\n",
       "      <th>PYPL</th>\n",
       "      <td>-0.747647</td>\n",
       "      <td>0.969442</td>\n",
       "      <td>0.962175</td>\n",
       "      <td>-0.610011</td>\n",
       "      <td>0.924859</td>\n",
       "      <td>-0.735164</td>\n",
       "      <td>0.959806</td>\n",
       "      <td>-0.633608</td>\n",
       "      <td>1.000000</td>\n",
       "      <td>0.872906</td>\n",
       "      <td>0.834788</td>\n",
       "    </tr>\n",
       "    <tr>\n",
       "      <th>TSLA</th>\n",
       "      <td>-0.098212</td>\n",
       "      <td>0.876010</td>\n",
       "      <td>0.759475</td>\n",
       "      <td>-0.340188</td>\n",
       "      <td>0.658354</td>\n",
       "      <td>-0.376230</td>\n",
       "      <td>0.725371</td>\n",
       "      <td>-0.459283</td>\n",
       "      <td>0.872906</td>\n",
       "      <td>1.000000</td>\n",
       "      <td>0.421403</td>\n",
       "    </tr>\n",
       "  </tbody>\n",
       "</table>\n",
       "</div>"
      ],
      "text/plain": [
       "Symbol       AAL      AAPL      AMZN         F        FB        GE     GOOGL  \\\n",
       "Symbol                                                                         \n",
       "AAL     1.000000  0.099891  0.123817  0.272186  0.036605  0.417170  0.278905   \n",
       "AAPL    0.099891  1.000000  0.967166 -0.005785  0.877202 -0.027537  0.945949   \n",
       "AMZN    0.123817  0.967166  1.000000 -0.292629  0.935542 -0.591809  0.960643   \n",
       "F       0.272186 -0.005785 -0.292629  1.000000 -0.666775  0.779332  0.003572   \n",
       "FB      0.036605  0.877202  0.935542 -0.666775  1.000000 -0.649568  0.971498   \n",
       "GE      0.417170 -0.027537 -0.591809  0.779332 -0.649568  1.000000 -0.549074   \n",
       "GOOGL   0.278905  0.945949  0.960643  0.003572  0.971498 -0.549074  1.000000   \n",
       "IBM    -0.035367  0.520946  0.259185  0.527632 -0.832614  0.694604  0.188660   \n",
       "PYPL   -0.747647  0.969442  0.962175 -0.610011  0.924859 -0.735164  0.959806   \n",
       "TSLA   -0.098212  0.876010  0.759475 -0.340188  0.658354 -0.376230  0.725371   \n",
       "\n",
       "Symbol       IBM      PYPL      TSLA      TWTR  \n",
       "Symbol                                          \n",
       "AAL    -0.035367 -0.747647 -0.098212 -0.360234  \n",
       "AAPL    0.520946  0.969442  0.876010  0.340817  \n",
       "AMZN    0.259185  0.962175  0.759475  0.236930  \n",
       "F       0.527632 -0.610011 -0.340188  0.150763  \n",
       "FB     -0.832614  0.924859  0.658354  0.067366  \n",
       "GE      0.694604 -0.735164 -0.376230 -0.338259  \n",
       "GOOGL   0.188660  0.959806  0.725371  0.186778  \n",
       "IBM     1.000000 -0.633608 -0.459283  0.082940  \n",
       "PYPL   -0.633608  1.000000  0.872906  0.834788  \n",
       "TSLA   -0.459283  0.872906  1.000000  0.421403  "
      ]
     },
     "execution_count": 135,
     "metadata": {},
     "output_type": "execute_result"
    }
   ],
   "source": [
    "corr_df = df_pivot.corr(method='pearson')\n",
    "#reset symbol as index (rather than 0-X)\n",
    "corr_df.head().reset_index()\n",
    "#del corr_df.index.name\n",
    "corr_df.head(10)"
   ]
  },
  {
   "cell_type": "code",
   "execution_count": 40,
   "metadata": {},
   "outputs": [
    {
     "data": {
      "image/png": "[encoded data removed]",
      "text/plain": [
       "<Figure size 936x576 with 2 Axes>"
      ]
     },
     "metadata": {
      "needs_background": "light"
     },
     "output_type": "display_data"
    },
    {
     "data": {
      "text/plain": [
       "<Figure size 432x288 with 0 Axes>"
      ]
     },
     "metadata": {},
     "output_type": "display_data"
    }
   ],
   "source": [
    "plt.figure(figsize=(13, 8))\n",
    "seaborn.heatmap(corr_df, annot=True, cmap=\"RdYlGn\")\n",
    "plt.figure()\n",
    "plt.show()"
   ]
  },
  {
   "cell_type": "markdown",
   "metadata": {},
   "source": [
    "# Creating your own stock portflio \n",
    "### Measuring risk & return\n",
    "\n",
    "Now we get to the good stuff.\n",
    "\n",
    "Let us assume we are passive investors, we take Buffet's adivce and invest in the SnP. We know how to get access to the data, and we also know how to work with DataFrames. We can use these to compute the formulas we saw at the beginning of class including Expected Return, Portfolio Risk and the Sharpe Ratio of the Portfolio.\n",
    "\n",
    "Goals: \n",
    "\n",
    "1. Find the SnP Data\n",
    "2. Compute the Ex-Ante estimate of expected return for the portfolio\n",
    "3. Compute the estimate of risk for the portfolio\n",
    "4. Compute the Sharpe Ratio of the Portfolio\n",
    "\n",
    "* $E(R) =$\n",
    "* $\\sigma = $ \n",
    "* $Sharpe Ratio = $\n"
   ]
  },
  {
   "cell_type": "code",
   "execution_count": 92,
   "metadata": {},
   "outputs": [],
   "source": [
    "# Lets create our FAANG portfolio\n",
    "symbols = ['FB','AMZN', 'AAPL', 'NFLX','GOOGL']\n",
    "\n",
    "#We get our price data by inputting a list, rather than a ticker as input to our get_data_yahoo function\n",
    "price_data = web.get_data_yahoo(symbols,\n",
    "                               start = '2015-01-01',\n",
    "                               end = '2021-01-01')\n",
    "\n",
    "# price_data.head()"
   ]
  },
  {
   "cell_type": "code",
   "execution_count": 93,
   "metadata": {},
   "outputs": [
    {
     "data": {
      "text/html": [
       "<div>\n",
       "<style scoped>\n",
       "    .dataframe tbody tr th:only-of-type {\n",
       "        vertical-align: middle;\n",
       "    }\n",
       "\n",
       "    .dataframe tbody tr th {\n",
       "        vertical-align: top;\n",
       "    }\n",
       "\n",
       "    .dataframe thead th {\n",
       "        text-align: right;\n",
       "    }\n",
       "</style>\n",
       "<table border=\"1\" class=\"dataframe\">\n",
       "  <thead>\n",
       "    <tr style=\"text-align: right;\">\n",
       "      <th>Symbols</th>\n",
       "      <th>FB</th>\n",
       "      <th>AMZN</th>\n",
       "      <th>AAPL</th>\n",
       "      <th>NFLX</th>\n",
       "      <th>GOOGL</th>\n",
       "    </tr>\n",
       "    <tr>\n",
       "      <th>Date</th>\n",
       "      <th></th>\n",
       "      <th></th>\n",
       "      <th></th>\n",
       "      <th></th>\n",
       "      <th></th>\n",
       "    </tr>\n",
       "  </thead>\n",
       "  <tbody>\n",
       "    <tr>\n",
       "      <th>2015-01-02</th>\n",
       "      <td>78.449997</td>\n",
       "      <td>308.519989</td>\n",
       "      <td>24.861401</td>\n",
       "      <td>49.848572</td>\n",
       "      <td>529.549988</td>\n",
       "    </tr>\n",
       "    <tr>\n",
       "      <th>2015-01-05</th>\n",
       "      <td>77.190002</td>\n",
       "      <td>302.190002</td>\n",
       "      <td>24.161013</td>\n",
       "      <td>47.311428</td>\n",
       "      <td>519.460022</td>\n",
       "    </tr>\n",
       "    <tr>\n",
       "      <th>2015-01-06</th>\n",
       "      <td>76.150002</td>\n",
       "      <td>295.290009</td>\n",
       "      <td>24.163294</td>\n",
       "      <td>46.501431</td>\n",
       "      <td>506.640015</td>\n",
       "    </tr>\n",
       "    <tr>\n",
       "      <th>2015-01-07</th>\n",
       "      <td>76.150002</td>\n",
       "      <td>298.420013</td>\n",
       "      <td>24.502111</td>\n",
       "      <td>46.742859</td>\n",
       "      <td>505.149994</td>\n",
       "    </tr>\n",
       "    <tr>\n",
       "      <th>2015-01-08</th>\n",
       "      <td>78.180000</td>\n",
       "      <td>300.459991</td>\n",
       "      <td>25.443539</td>\n",
       "      <td>47.779999</td>\n",
       "      <td>506.910004</td>\n",
       "    </tr>\n",
       "  </tbody>\n",
       "</table>\n",
       "</div>"
      ],
      "text/plain": [
       "Symbols            FB        AMZN       AAPL       NFLX       GOOGL\n",
       "Date                                                               \n",
       "2015-01-02  78.449997  308.519989  24.861401  49.848572  529.549988\n",
       "2015-01-05  77.190002  302.190002  24.161013  47.311428  519.460022\n",
       "2015-01-06  76.150002  295.290009  24.163294  46.501431  506.640015\n",
       "2015-01-07  76.150002  298.420013  24.502111  46.742859  505.149994\n",
       "2015-01-08  78.180000  300.459991  25.443539  47.779999  506.910004"
      ]
     },
     "execution_count": 93,
     "metadata": {},
     "output_type": "execute_result"
    }
   ],
   "source": [
    "price_data = price_data['Adj Close']\n",
    "price_data.head()"
   ]
  },
  {
   "cell_type": "code",
   "execution_count": 95,
   "metadata": {},
   "outputs": [],
   "source": [
    "w = [0.2,0.2,0.2,0.2,0.2]"
   ]
  },
  {
   "cell_type": "code",
   "execution_count": 97,
   "metadata": {},
   "outputs": [
    {
     "data": {
      "text/html": [
       "<div>\n",
       "<style scoped>\n",
       "    .dataframe tbody tr th:only-of-type {\n",
       "        vertical-align: middle;\n",
       "    }\n",
       "\n",
       "    .dataframe tbody tr th {\n",
       "        vertical-align: top;\n",
       "    }\n",
       "\n",
       "    .dataframe thead th {\n",
       "        text-align: right;\n",
       "    }\n",
       "</style>\n",
       "<table border=\"1\" class=\"dataframe\">\n",
       "  <thead>\n",
       "    <tr style=\"text-align: right;\">\n",
       "      <th>Symbols</th>\n",
       "      <th>FB</th>\n",
       "      <th>AMZN</th>\n",
       "      <th>AAPL</th>\n",
       "      <th>NFLX</th>\n",
       "      <th>GOOGL</th>\n",
       "    </tr>\n",
       "    <tr>\n",
       "      <th>Date</th>\n",
       "      <th></th>\n",
       "      <th></th>\n",
       "      <th></th>\n",
       "      <th></th>\n",
       "      <th></th>\n",
       "    </tr>\n",
       "  </thead>\n",
       "  <tbody>\n",
       "    <tr>\n",
       "      <th>2015-01-05</th>\n",
       "      <td>-0.016061</td>\n",
       "      <td>-0.020517</td>\n",
       "      <td>-0.028172</td>\n",
       "      <td>-0.050897</td>\n",
       "      <td>-0.019054</td>\n",
       "    </tr>\n",
       "    <tr>\n",
       "      <th>2015-01-06</th>\n",
       "      <td>-0.013473</td>\n",
       "      <td>-0.022833</td>\n",
       "      <td>0.000094</td>\n",
       "      <td>-0.017121</td>\n",
       "      <td>-0.024679</td>\n",
       "    </tr>\n",
       "    <tr>\n",
       "      <th>2015-01-07</th>\n",
       "      <td>0.000000</td>\n",
       "      <td>0.010600</td>\n",
       "      <td>0.014022</td>\n",
       "      <td>0.005192</td>\n",
       "      <td>-0.002941</td>\n",
       "    </tr>\n",
       "    <tr>\n",
       "      <th>2015-01-08</th>\n",
       "      <td>0.026658</td>\n",
       "      <td>0.006836</td>\n",
       "      <td>0.038422</td>\n",
       "      <td>0.022188</td>\n",
       "      <td>0.003484</td>\n",
       "    </tr>\n",
       "    <tr>\n",
       "      <th>2015-01-09</th>\n",
       "      <td>-0.005628</td>\n",
       "      <td>-0.011749</td>\n",
       "      <td>0.001072</td>\n",
       "      <td>-0.015458</td>\n",
       "      <td>-0.012211</td>\n",
       "    </tr>\n",
       "  </tbody>\n",
       "</table>\n",
       "</div>"
      ],
      "text/plain": [
       "Symbols           FB      AMZN      AAPL      NFLX     GOOGL\n",
       "Date                                                        \n",
       "2015-01-05 -0.016061 -0.020517 -0.028172 -0.050897 -0.019054\n",
       "2015-01-06 -0.013473 -0.022833  0.000094 -0.017121 -0.024679\n",
       "2015-01-07  0.000000  0.010600  0.014022  0.005192 -0.002941\n",
       "2015-01-08  0.026658  0.006836  0.038422  0.022188  0.003484\n",
       "2015-01-09 -0.005628 -0.011749  0.001072 -0.015458 -0.012211"
      ]
     },
     "execution_count": 97,
     "metadata": {},
     "output_type": "execute_result"
    }
   ],
   "source": [
    "ret_data = price_data.pct_change()[1:]\n",
    "ret_data.head()"
   ]
  },
  {
   "cell_type": "code",
   "execution_count": 98,
   "metadata": {
    "scrolled": true
   },
   "outputs": [
    {
     "data": {
      "text/html": [
       "<div>\n",
       "<style scoped>\n",
       "    .dataframe tbody tr th:only-of-type {\n",
       "        vertical-align: middle;\n",
       "    }\n",
       "\n",
       "    .dataframe tbody tr th {\n",
       "        vertical-align: top;\n",
       "    }\n",
       "\n",
       "    .dataframe thead th {\n",
       "        text-align: right;\n",
       "    }\n",
       "</style>\n",
       "<table border=\"1\" class=\"dataframe\">\n",
       "  <thead>\n",
       "    <tr style=\"text-align: right;\">\n",
       "      <th>Symbols</th>\n",
       "      <th>FB</th>\n",
       "      <th>AMZN</th>\n",
       "      <th>AAPL</th>\n",
       "      <th>NFLX</th>\n",
       "      <th>GOOGL</th>\n",
       "    </tr>\n",
       "    <tr>\n",
       "      <th>Date</th>\n",
       "      <th></th>\n",
       "      <th></th>\n",
       "      <th></th>\n",
       "      <th></th>\n",
       "      <th></th>\n",
       "    </tr>\n",
       "  </thead>\n",
       "  <tbody>\n",
       "    <tr>\n",
       "      <th>2015-01-05</th>\n",
       "      <td>-0.003212</td>\n",
       "      <td>-0.004103</td>\n",
       "      <td>-0.005634</td>\n",
       "      <td>-0.010179</td>\n",
       "      <td>-0.003811</td>\n",
       "    </tr>\n",
       "    <tr>\n",
       "      <th>2015-01-06</th>\n",
       "      <td>-0.002695</td>\n",
       "      <td>-0.004567</td>\n",
       "      <td>0.000019</td>\n",
       "      <td>-0.003424</td>\n",
       "      <td>-0.004936</td>\n",
       "    </tr>\n",
       "    <tr>\n",
       "      <th>2015-01-07</th>\n",
       "      <td>0.000000</td>\n",
       "      <td>0.002120</td>\n",
       "      <td>0.002804</td>\n",
       "      <td>0.001038</td>\n",
       "      <td>-0.000588</td>\n",
       "    </tr>\n",
       "    <tr>\n",
       "      <th>2015-01-08</th>\n",
       "      <td>0.005332</td>\n",
       "      <td>0.001367</td>\n",
       "      <td>0.007684</td>\n",
       "      <td>0.004438</td>\n",
       "      <td>0.000697</td>\n",
       "    </tr>\n",
       "    <tr>\n",
       "      <th>2015-01-09</th>\n",
       "      <td>-0.001126</td>\n",
       "      <td>-0.002350</td>\n",
       "      <td>0.000214</td>\n",
       "      <td>-0.003092</td>\n",
       "      <td>-0.002442</td>\n",
       "    </tr>\n",
       "  </tbody>\n",
       "</table>\n",
       "</div>"
      ],
      "text/plain": [
       "Symbols           FB      AMZN      AAPL      NFLX     GOOGL\n",
       "Date                                                        \n",
       "2015-01-05 -0.003212 -0.004103 -0.005634 -0.010179 -0.003811\n",
       "2015-01-06 -0.002695 -0.004567  0.000019 -0.003424 -0.004936\n",
       "2015-01-07  0.000000  0.002120  0.002804  0.001038 -0.000588\n",
       "2015-01-08  0.005332  0.001367  0.007684  0.004438  0.000697\n",
       "2015-01-09 -0.001126 -0.002350  0.000214 -0.003092 -0.002442"
      ]
     },
     "execution_count": 98,
     "metadata": {},
     "output_type": "execute_result"
    }
   ],
   "source": [
    "weighted_returns = (w * ret_data)\n",
    "weighted_returns.head()"
   ]
  },
  {
   "cell_type": "code",
   "execution_count": 115,
   "metadata": {},
   "outputs": [
    {
     "data": {
      "text/plain": [
       "Date\n",
       "2015-01-05   -0.026940\n",
       "2015-01-06   -0.015602\n",
       "2015-01-07    0.005375\n",
       "2015-01-08    0.019518\n",
       "2015-01-09   -0.008795\n",
       "dtype: float64"
      ]
     },
     "execution_count": 115,
     "metadata": {},
     "output_type": "execute_result"
    }
   ],
   "source": [
    "port_ret = weighted_returns.sum(axis=1)\n",
    "port_ret.head()"
   ]
  },
  {
   "cell_type": "code",
   "execution_count": 116,
   "metadata": {
    "scrolled": true
   },
   "outputs": [
    {
     "data": {
      "image/png": "[encoded data removed]",
      "text/plain": [
       "<Figure size 432x288 with 1 Axes>"
      ]
     },
     "metadata": {
      "needs_background": "light"
     },
     "output_type": "display_data"
    }
   ],
   "source": [
    "fig = plt.figure()\n",
    "ax1 = fig.add_axes([0.1,0.1,0.8,0.8])\n",
    "ax1.hist(port_ret, bins = 60)\n",
    "ax1.set_xlabel('Portfolio returns')\n",
    "ax1.set_ylabel(\"Freq\")\n",
    "ax1.set_title(\"Portfolio Returns calculated manually\")\n",
    "plt.show()"
   ]
  },
  {
   "cell_type": "code",
   "execution_count": 105,
   "metadata": {},
   "outputs": [
    {
     "name": "stdout",
     "output_type": "stream",
     "text": [
      "0.001386153809550311\n"
     ]
    }
   ],
   "source": [
    "mean_ret = port_ret.mean()\n",
    "std_returns = port_ret.std()\n",
    "print(mean_ret)"
   ]
  },
  {
   "cell_type": "code",
   "execution_count": 106,
   "metadata": {},
   "outputs": [
    {
     "name": "stdout",
     "output_type": "stream",
     "text": [
      "0.01620846990889265\n"
     ]
    }
   ],
   "source": [
    "print(std_returns)"
   ]
  }
 ],
 "metadata": {
  "kernelspec": {
   "display_name": "Python 3",
   "language": "python",
   "name": "python3"
  },
  "language_info": {
   "codemirror_mode": {
    "name": "ipython",
    "version": 3
   },
   "file_extension": ".py",
   "mimetype": "text/x-python",
   "name": "python",
   "nbconvert_exporter": "python",
   "pygments_lexer": "ipython3",
   "version": "3.8.5"
  }
 },
 "nbformat": 4,
 "nbformat_minor": 4
}
